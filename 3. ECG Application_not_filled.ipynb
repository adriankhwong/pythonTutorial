{
 "cells": [
  {
   "cell_type": "markdown",
   "metadata": {},
   "source": [
    "## Electrocardiogram ##\n",
    "\n",
    "An electrocardiogram (ECG or EKG) is the electrical activity of the heart. With each beat, an electrical impulse (or “wave”) travels through the heart. This wave causes the muscle to squeeze and pump blood from the heart. A normal heartbeat on ECG will show the timing of the top and lower chambers. \n",
    "\n",
    "The right and left atria or upper chambers make the first wave called a “P wave\" — following a flat line when the electrical impulse goes to the bottom chambers. The right and left bottom chambers or ventricles make the next wave called a “QRS complex.\" The final wave or “T wave” represents electrical recovery or return to a resting state for the ventricles.\n",
    "\n",
    "Sample of ECG signal:\n",
    "\n",
    "<img src=\"http://www.wikidoc.org/images/5/53/SinusRhythmLabels.png\" alt=\"ECG sample\" width=\"250\" height=\"250\">\n",
    "\n",
    "\n",
    "\n",
    "## Heart Rate Variablility ##\n",
    "\n",
    "Heart Rate Variablility (HRV) also known as RR variability is the time difference between two QRS peaks. Calculating and ploting the HRV overtime allows you to determine whether the person stress calm state or a stress.\n",
    "\n",
    "Hightlighting the time differences:\n",
    "<img src=\"https://support.polar.com/support_files/us-en/85256F470048B0BC852577EC004BAA51/1.gif\" alt=\"ECG sample\" width=\"450\" height=\"250\">\n",
    "\n",
    "Graph of HRV and showing the differences in the HRV signal of a someone stressed and calmn. \n",
    "<img src=\"https://media.licdn.com/mpr/mpr/AAEAAQAAAAAAAAjSAAAAJGFlZDY1MTZiLWEwODEtNDFkNy1iYzA2LTE0YzU4YThhMjNhMg.jpg\" alt=\"ECG sample\" width=\"400\" height=\"250\">\n",
    "\n",
    "\n"
   ]
  },
  {
   "cell_type": "code",
   "execution_count": 1,
   "metadata": {},
   "outputs": [],
   "source": [
    "import numpy as np\n",
    "import matplotlib.pyplot as plt\n",
    "\n",
    "def peak_detector(x):\n",
    "    '''\n",
    "    Finds the index of the peaks for a signal/vector x\n",
    "    ARGUMENTS:\n",
    "        x - A signal/vector \n",
    "    OUTPUTS:\n",
    "        peak_index - A list of index of there the peaks are given x \n",
    "    ''' \n",
    "    peak_index = []\n",
    "    x_prev_point = x[0]\n",
    "    for i in range(len(x)):\n",
    "        if i == len(x)-1: # there is no value at x[i+1] when i = len(x) and there is no value at i = len(x)\n",
    "            break\n",
    "        elif x[i] > x_prev_point and x[i] > x[i+1]:\n",
    "            peak_index.append(i)\n",
    "        x_prev_point = x[i]\n",
    "    return peak_index\n",
    "    \n",
    "N_samples = 100\n",
    "\n",
    "# https://stackoverflow.com/questions/10698858/built-in-range-or-numpy-arange-which-is-more-efficient\n",
    "x = None # Same as x = range(100). but numpy.range is faster\n",
    "y = None\n",
    "\n",
    "# Get Peak indices\n",
    "\n",
    "# plot data\n"
   ]
  },
  {
   "cell_type": "markdown",
   "metadata": {},
   "source": [
    "## Read Electrocardiogram ##"
   ]
  },
  {
   "cell_type": "code",
   "execution_count": 2,
   "metadata": {},
   "outputs": [],
   "source": [
    "# Helper functions\n",
    "\n",
    "# inspiration for function covert_time()\n",
    "#      https://stackoverflow.com/questions/4998629/python-split-string-with-multiple-delimiters\n",
    "#      https://stackoverflow.com/questions/7501609/python-re-split-vs-split\n",
    "def covert_time(time_stamps):\n",
    "    '''\n",
    "    Converts a list of strings 'mm:ss.mmm' to a list of seconds\n",
    "    ARGUMENTS:\n",
    "        time_stamps - A list of time stamps where each time stamps has the format 'mm:ss.mmm' of type string \n",
    "    OUTPUTS:\n",
    "        new_time_stamps - A list of time stamps where each time stamp is in seconds \n",
    "    ''' \n",
    "\n",
    "    import re\n",
    "    \n",
    "    MINUTES_TO_SECONDS = 60    \n",
    "    time_stamps_seconds = []\n",
    "    \n",
    "    for time in time_stamps:\n",
    "        time = time.replace(\"'\", \"\")        \n",
    "        time_split = re.split(':| . ' ,time) \n",
    "        time_min = float(time_split[0])\n",
    "        time_sec = float(time_split[1]) \n",
    "        time_stamps_seconds.append(time_min*MINUTES_TO_SECONDS+time_sec)\n",
    "    return time_stamps_seconds\n",
    "\n",
    "# Butterworth Bandpass filter function obtained from:\n",
    "#   https://stackoverflow.com/questions/12093594/how-to-implement-band-pass-butterworth-filter-with-scipy-signal-butter\n",
    "from scipy.signal import butter, lfilter\n",
    "\n",
    "def butter_bandpass(lowcut, highcut, fs, order=5):\n",
    "    nyq = 0.5 * fs\n",
    "    low = lowcut / nyq\n",
    "    high = highcut / nyq\n",
    "    b, a = butter(order, [low, high], btype='band')\n",
    "    return b, a\n",
    "\n",
    "def butter_bandpass_filter(data, lowcut, highcut, fs, order=5):\n",
    "    b, a = butter_bandpass(lowcut, highcut, fs, order=order)\n",
    "    y = lfilter(b, a, data)\n",
    "    return y"
   ]
  },
  {
   "cell_type": "code",
   "execution_count": 3,
   "metadata": {},
   "outputs": [],
   "source": [
    "# PhysioNet offers free web access to large collections of recorded physiologic signals\n",
    "# Link to the research article: http://physionet.caregroup.harvard.edu/physiobank/database/ptbdb/\n",
    "# Downloaded data here: https://physionet.org/cgi-bin/atm/ATM\n",
    "\n",
    "# Pandas is an open source, BSD-licensed library providing high-performance, \n",
    "# easy-to-use data structures and data analysis tools for the Python programming language.\n",
    "# Learn more here: http://pandas.pydata.org/\n",
    "\n",
    "import pandas as pd \n",
    "\n",
    "# read ECG from CSV file\n",
    "ecg_short_df = None  # dataframe\n",
    "\n",
    "# get the first five rows for dataframe"
   ]
  },
  {
   "cell_type": "code",
   "execution_count": 4,
   "metadata": {},
   "outputs": [],
   "source": [
    "# Remove first column (not the header column)\n",
    "ecg_short_df = None"
   ]
  },
  {
   "cell_type": "code",
   "execution_count": 5,
   "metadata": {},
   "outputs": [],
   "source": [
    "# convert time stamps from string to seconds (float)\n",
    "ecg_short_df = None"
   ]
  },
  {
   "cell_type": "code",
   "execution_count": 6,
   "metadata": {},
   "outputs": [
    {
     "data": {
      "text/plain": [
       "\"\\nplt.plot(time_short, ecg_short)\\nplt.title('Raw ten second ECG data')\\nplt.xlabel('time (sec)')\\nplt.ylabel('voltage (V)')\\nplt.show()\\n\""
      ]
     },
     "execution_count": 6,
     "metadata": {},
     "output_type": "execute_result"
    }
   ],
   "source": [
    "# Extract ECG and time stampes\n",
    "time_short = None  # Get the first column\n",
    "ecg_short = None   # Get the second column\n",
    "\n",
    "# solution to issue since the first index has strings instead of floats. Read more here:\n",
    "# https://stackoverflow.com/questions/35109623/numpy-ndarray-object-has-no-attribute-find-while-trying-to-generate-boxplot\n",
    "\n",
    "# plot Raw ECG signal\n",
    "'''\n",
    "plt.plot(time_short, ecg_short)\n",
    "plt.title('Raw ten second ECG data')\n",
    "plt.xlabel('time (sec)')\n",
    "plt.ylabel('voltage (V)')\n",
    "plt.show()\n",
    "'''"
   ]
  },
  {
   "cell_type": "code",
   "execution_count": 7,
   "metadata": {},
   "outputs": [
    {
     "data": {
      "text/plain": [
       "\"\\nplt.plot(time_short, ecg_short_filter)     # show sample [0:2000]\\nplt.title('Butterworth filter ECG signal ')\\nplt.xlabel('time (sec)')\\nplt.ylabel('voltage (V)')\\nplt.show()\\n\""
      ]
     },
     "execution_count": 7,
     "metadata": {},
     "output_type": "execute_result"
    }
   ],
   "source": [
    "# Filter ECG signal\n",
    "# upper and lower bandpass obtained from this article:\n",
    "#   http://www.ems12lead.com/2014/03/10/understanding-ecg-filtering/\n",
    "lowcut = 0.67\n",
    "highcut = 50\n",
    "fs = None # number of samples/ time\n",
    "ecg_short_filter = None\n",
    "\n",
    "# plot filtered ECG\n",
    "\"\"\"\n",
    "plt.plot(time_short, ecg_short_filter)     # show sample [0:2000]\n",
    "plt.title('Butterworth filter ECG signal ')\n",
    "plt.xlabel('time (sec)')\n",
    "plt.ylabel('voltage (V)')\n",
    "plt.show()\n",
    "\"\"\""
   ]
  },
  {
   "cell_type": "code",
   "execution_count": 8,
   "metadata": {},
   "outputs": [
    {
     "data": {
      "text/plain": [
       "\"\\nplot thresholded ECG signal\\nplt.plot(time_short, ecg_short_thres)\\nplt.title('threshold of QRS peaks ten')\\nplt.xlabel('time (sec)')\\nplt.ylabel('voltage (V)')\\nplt.show()\\n\""
      ]
     },
     "execution_count": 8,
     "metadata": {},
     "output_type": "execute_result"
    }
   ],
   "source": [
    "# threshold signal\n",
    "THRES = None\n",
    "\n",
    "# define ecg_short_thres\n",
    "ecg_short_thres = None\n",
    "\n",
    "# get the peak values of above threshold\n",
    "ecg_short_thres = None\n",
    "\n",
    "# threshold signal \n",
    "'''\n",
    "plot thresholded ECG signal\n",
    "plt.plot(time_short, ecg_short_thres)\n",
    "plt.title('threshold of QRS peaks ten')\n",
    "plt.xlabel('time (sec)')\n",
    "plt.ylabel('voltage (V)')\n",
    "plt.show()\n",
    "'''"
   ]
  },
  {
   "cell_type": "code",
   "execution_count": 9,
   "metadata": {},
   "outputs": [
    {
     "data": {
      "text/plain": [
       "\"\\nplt.plot(time_short, ecg_short_filter)\\nplt.scatter(peak_time, ecg_peak, color='red')\\nplt.title('Butterworth filter signal with peaks ')\\nplt.xlabel('time (sec)')\\nplt.ylabel('voltage (V)')\\nplt.show()\\n\""
      ]
     },
     "execution_count": 9,
     "metadata": {},
     "output_type": "execute_result"
    }
   ],
   "source": [
    "# plot the filtered ECG with the peaks\n",
    "peak_index = None\n",
    "peak_time = None\n",
    "ecg_peak = None\n",
    "\n",
    "# filtered signal with peaks highlighted\n",
    "'''\n",
    "plt.plot(time_short, ecg_short_filter)\n",
    "plt.scatter(peak_time, ecg_peak, color='red')\n",
    "plt.title('Butterworth filter signal with peaks ')\n",
    "plt.xlabel('time (sec)')\n",
    "plt.ylabel('voltage (V)')\n",
    "plt.show()\n",
    "'''"
   ]
  },
  {
   "cell_type": "markdown",
   "metadata": {},
   "source": [
    "## Heart Rate Variability ##"
   ]
  },
  {
   "cell_type": "code",
   "execution_count": 10,
   "metadata": {},
   "outputs": [
    {
     "data": {
      "image/png": "[encoded data removed]",
      "text/plain": [
       "<matplotlib.figure.Figure at 0x109b6e390>"
      ]
     },
     "metadata": {},
     "output_type": "display_data"
    },
    {
     "data": {
      "image/png": "[encoded data removed]",
      "text/plain": [
       "<matplotlib.figure.Figure at 0x10b5fc6d8>"
      ]
     },
     "metadata": {},
     "output_type": "display_data"
    }
   ],
   "source": [
    "\n",
    "BPM = 60  # beats per minute\n",
    "\n",
    "# using the method above, applied to new data. \n",
    "# This could be written into a function instead of rewriting the code!\n",
    "\n",
    "# read ECG and remove first column (not the header column)\n",
    "ecg_full_df = pd.read_csv(\"s0010_re_full.csv\", dtype = \"object\", low_memory = \"False\") # there were errors so added parameters\n",
    "ecg_full_df = ecg_full_df[1:]\n",
    "\n",
    "# convert time stamps from string to seconds (float)\n",
    "ecg_full_df.iloc[:,0] = covert_time(ecg_full_df.iloc[:,0])\n",
    "\n",
    "# full ECG data\n",
    "time_full= np.array(ecg_full_df.iloc[:,0], dtype=pd.Series)\n",
    "ecg_full= np.array(ecg_full_df.iloc[:,1], dtype=pd.Series)\n",
    "\n",
    "ecg_full = ecg_full.astype(np.float)\n",
    "time_full = time_full.astype(np.float)\n",
    "\n",
    "# Filter ECG\n",
    "fs = len(time_full)/time_full[-1]-time_full[0]\n",
    "ecg_full_filter = butter_bandpass_filter(ecg_full, lowcut, highcut, fs, order=3)\n",
    "\n",
    "# Find ECG peaks above threshold\n",
    "THRES = max(ecg_full)*0.60\n",
    "ecg_full_thres = np.zeros((len(ecg_full_filter)))\n",
    "ecg_full_thres[ecg_full_filter>THRES] = ecg_full_filter[ecg_full_filter>THRES]    # grab the index and plot that in. \n",
    "\n",
    "# Get peaks\n",
    "peak_index = peak_detector(ecg_full_thres)\n",
    "peak_time = time_full[peak_index]\n",
    "ecg_peak = ecg_full_filter[peak_index]\n",
    "\n",
    "# plot ECG\n",
    "plt.plot(time_full, ecg_full_filter)\n",
    "plt.scatter(peak_time, ecg_peak, color='red')\n",
    "plt.title('Butterworth filter signal with peaks ')\n",
    "plt.xlabel('time (sec)')\n",
    "plt.ylabel('voltage (V)')\n",
    "plt.show()\n",
    "\n",
    "# https://stackoverflow.com/questions/5859144/shift-all-indices-in-numpy-array\n",
    "# shift time to efficiently find HRV\n",
    "y = np.roll(peak_time, 1)\n",
    "y[0] = 0  \n",
    "\n",
    "hrv = BPM/(peak_time - y)\n",
    "\n",
    "# plot HRV\n",
    "plt.plot(peak_time[1:], hrv[1:])\n",
    "plt.title('HRV ')\n",
    "plt.xlabel('time (sec)')\n",
    "plt.ylabel('HRV, instaneous BPM')\n",
    "plt.show()\n"
   ]
  },
  {
   "cell_type": "code",
   "execution_count": null,
   "metadata": {},
   "outputs": [],
   "source": []
  }
 ],
 "metadata": {
  "kernelspec": {
   "display_name": "Python 3",
   "language": "python",
   "name": "python3"
  },
  "language_info": {
   "codemirror_mode": {
    "name": "ipython",
    "version": 3
   },
   "file_extension": ".py",
   "mimetype": "text/x-python",
   "name": "python",
   "nbconvert_exporter": "python",
   "pygments_lexer": "ipython3",
   "version": "3.5.4"
  }
 },
 "nbformat": 4,
 "nbformat_minor": 2
}
