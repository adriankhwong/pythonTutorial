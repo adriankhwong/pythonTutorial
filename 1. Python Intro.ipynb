{
 "cells": [
  {
   "cell_type": "markdown",
   "metadata": {},
   "source": [
    "## Introduction to Python\n",
    "\n",
    "Python is ... \n",
    "- a high level language optimpozed for reading py people instead of machines. \n",
    "- an interpreted language, which means the code isn't complied into machine code like Java or C. \n",
    "- a dynamically typed lanuage, which means when you declare a variable, you can assign the variable to be a certain type like an interger on one line and change it to a string on the next line. Since you don't need to compile the code. "
   ]
  },
  {
   "cell_type": "markdown",
   "metadata": {},
   "source": [
    "## Introduction to Jupyter Notebooks\n",
    "\n",
    "These noteboks allow you to divide the code into cells and show the output of the cells. One of the best features of these notebooks is you are able  to keep a log of what you have done without rerunning code you have already written. However, you will need to rerun the cells to get the values of the variables if you close Jupyter Notebooks.\n",
    "\n",
    "Press \"shift\" and \"Enter\" on the keyboard to run each cell\n",
    "\n",
    "\n",
    "To install Python, Jupyter Notebooks, and commonly used libraries, follow this link [Anaconda](https://www.anaconda.com/download/#macos). "
   ]
  },
  {
   "cell_type": "markdown",
   "metadata": {},
   "source": [
    "## Differences between Python 2 and Python 3\n",
    "\n",
    "Guido van Rossum, the creator of Python, said that Python 2 will have an end of life in the next few years and hence little to no development will be made. Moreover, Python 3 was create to fix a issues that occured in Python 2. Read more here:\n",
    "\n",
    "- https://wiki.python.org/moin/Python2orPython3\n",
    "- http://python3porting.com/differences.html\n",
    "- https://www.quora.com/What-is-the-difference-between-Python-2-x-and-Python-3-x\n",
    "- http://blog.teamtreehouse.com/python-2-vs-python-3\n"
   ]
  },
  {
   "cell_type": "markdown",
   "metadata": {},
   "source": [
    "## Comments and Strings ##"
   ]
  },
  {
   "cell_type": "code",
   "execution_count": 1,
   "metadata": {},
   "outputs": [
    {
     "name": "stdout",
     "output_type": "stream",
     "text": [
      "Hello World!\n",
      "Hello World!\n",
      "Hello World\n",
      "The variable, message, has type <class 'str'>\n"
     ]
    },
    {
     "ename": "NameError",
     "evalue": "name 'not_a_string' is not defined",
     "output_type": "error",
     "traceback": [
      "\u001b[0;31m---------------------------------------------------------------------------\u001b[0m",
      "\u001b[0;31mNameError\u001b[0m                                 Traceback (most recent call last)",
      "\u001b[0;32m<ipython-input-1-a10601e2ceb1>\u001b[0m in \u001b[0;36m<module>\u001b[0;34m()\u001b[0m\n\u001b[1;32m     13\u001b[0m \u001b[0;31m# This would not print because it is not a string\u001b[0m\u001b[0;34m\u001b[0m\u001b[0;34m\u001b[0m\u001b[0m\n\u001b[1;32m     14\u001b[0m \u001b[0;31m# You will get an error message\u001b[0m\u001b[0;34m\u001b[0m\u001b[0;34m\u001b[0m\u001b[0m\n\u001b[0;32m---> 15\u001b[0;31m \u001b[0mprint\u001b[0m\u001b[0;34m(\u001b[0m\u001b[0mnot_a_string\u001b[0m\u001b[0;34m)\u001b[0m\u001b[0;34m\u001b[0m\u001b[0m\n\u001b[0m",
      "\u001b[0;31mNameError\u001b[0m: name 'not_a_string' is not defined"
     ]
    }
   ],
   "source": [
    "# This is a comment\n",
    "\n",
    "'''This is also a comment'''\n",
    "\n",
    "print(\"Hello World!\") # print string to screen using \"\" \n",
    "print('Hello World!') # print string to screen using ''\n",
    "\n",
    "# Define a string with quotations\n",
    "message = \"Hello World\"\n",
    "print(message)\n",
    "print(\"The variable, message, has type\", type(message))\n",
    "\n",
    "# This would not print because it is not a string\n",
    "# You will get an error message\n",
    "print(not_a_string)"
   ]
  },
  {
   "cell_type": "markdown",
   "metadata": {},
   "source": [
    "## Variables and Math Operations ##"
   ]
  },
  {
   "cell_type": "code",
   "execution_count": 2,
   "metadata": {},
   "outputs": [
    {
     "name": "stdout",
     "output_type": "stream",
     "text": [
      "1\n",
      "The number, 1, has type <class 'int'>\n",
      "1.0\n",
      "The number, 1.0, has type <class 'float'>\n",
      "\n",
      "The value of x is 1\n",
      "\n",
      "The value of x is 1 and y is 3\n"
     ]
    }
   ],
   "source": [
    "# You can also print numbers and pre-defined variables\n",
    "print(1)\n",
    "print(\"The number, 1, has type\", type(1))\n",
    "print(1.0)\n",
    "print(\"The number, 1.0, has type\", type(1.0))\n",
    "\n",
    "# printing strings and variable  \n",
    "x = 1\n",
    "print()\n",
    "print(\"The value of x is\", x)\n",
    "\n",
    "# printing multiple variables \n",
    "# Other ways are listed here: https://stackoverflow.com/questions/15286401/print-multiple-arguments-in-python\n",
    "y = 2 + x\n",
    "print()\n",
    "print(\"The value of x is %i and y is %i\" % (x, y))\n",
    "\n"
   ]
  },
  {
   "cell_type": "code",
   "execution_count": 3,
   "metadata": {},
   "outputs": [
    {
     "name": "stdout",
     "output_type": "stream",
     "text": [
      "\n",
      "For a = 3 and b = 2:\n",
      "   Addition: a + b =  5\n",
      "   Subtraction: a - b =  1\n",
      "   Multiplication: a * b =  6\n",
      "   Division: a / b =  1.5\n",
      "   Modulus: a % b =  1\n",
      "   Exponent: a ** b =  9\n",
      "\n",
      "Assignment operators: a+=b means a = a+b. a = 5\n"
     ]
    }
   ],
   "source": [
    "# Math operations\n",
    "\n",
    "a = 3\n",
    "b = 2\n",
    "\n",
    "print()  # print newline\n",
    "print(\"For a = %i and b = %i:\" %(a,b) )\n",
    "print(\"   Addition: a + b = \", a + b)   \n",
    "print(\"   Subtraction: a - b = \", a - b)    \n",
    "print(\"   Multiplication: a * b = \", a * b)    \n",
    "print(\"   Division: a / b = \", a / b)    \n",
    "print(\"   Modulus: a % b = \", a % b)    \n",
    "print(\"   Exponent: a ** b = \", a ** b)  \n",
    "\n",
    "a+=b\n",
    "print()\n",
    "print(\"Assignment operators: a+=b means a = a+b. a =\", a)"
   ]
  },
  {
   "cell_type": "code",
   "execution_count": 4,
   "metadata": {},
   "outputs": [
    {
     "name": "stdout",
     "output_type": "stream",
     "text": [
      "x: \n",
      "The value of x is \n"
     ]
    }
   ],
   "source": [
    "# Have user input a string to the program\n",
    "\n",
    "var = input(\"x: \")  # var is type string even if var is a number\n",
    "print(\"The value of x is\", var)"
   ]
  },
  {
   "cell_type": "markdown",
   "metadata": {},
   "source": [
    "## if, elif, else statements ##\n",
    "\n",
    "Syntax\n",
    "\n",
    "```python\n",
    "if (condition):\n",
    "    # execute code\n",
    "elif (condition):\n",
    "    # execute code\n",
    "elif (condition):\n",
    "    # execute code\n",
    "else:\n",
    "    # execute code\n",
    "```\n",
    "\n",
    "Conditions need to evaluate to a boolean value (either True or False). Example conditions:\n",
    "```python\n",
    "12 >= 0          # True\n",
    "1 >= 6           # False\n",
    "True and False   # Logical AND; condition: \"False\"\n",
    "True or False    # Logical OR;  condition: \"True\"\n",
    "True != False    # Logical XOR; condition: \"True\"\n",
    "not True         # Logical NOT; condition: \"False\"\n",
    "```\n",
    "\n",
    "Look at section Python Comparison Operators for different conditions and ways to use if statement \n",
    "https://www.tutorialspoint.com/python3/python_basic_operators.htm\n"
   ]
  },
  {
   "cell_type": "code",
   "execution_count": 5,
   "metadata": {},
   "outputs": [
    {
     "name": "stdout",
     "output_type": "stream",
     "text": [
      "value of x is something greater than 10.\n"
     ]
    }
   ],
   "source": [
    "# Make sure you indent after an if, elif or else statements. \n",
    "# if you don't, it will produce an error. \n",
    "# Code needs to be indented after a colon : \n",
    "\n",
    "x = 12\n",
    "\n",
    "if ( x <= 10 ): # x is same as 10\n",
    "    print (\"Value of x is\", x)\n",
    "else:\n",
    "    print(\"value of x is something greater than 10.\")\n"
   ]
  },
  {
   "cell_type": "markdown",
   "metadata": {},
   "source": [
    "## Lists\n",
    "- A list is defined with square brackets [  ]\n",
    "- A list is the same as a vector\n",
    "- A list is mutable\n",
    "- A list contains elements with a position (i.e. index) in the list. \n",
    "- The first index is zero, the second index is one, and so forth. \n",
    "- concatenate lists lists with + and  repeats values of the list with * \n",
    "- Splicing, Syntax: ```list[start_point:end_point-1] ```\n",
    "\n",
    "Learn more about list from and their associated methods and functions [tutorialspoint](https://www.tutorialspoint.com/python/python_lists.htm)"
   ]
  },
  {
   "cell_type": "code",
   "execution_count": 6,
   "metadata": {},
   "outputs": [
    {
     "name": "stdout",
     "output_type": "stream",
     "text": [
      "Items of list1:\n",
      " [1, 2, 3, 4, 5]\n",
      "Items of list2:\n",
      " ['1', 'Hi', 2, 'H', 9000]\n",
      "Items of nested_list (i.e. list of list):\n",
      " [[1, 2], [3, 4], [5, 6]]\n"
     ]
    }
   ],
   "source": [
    "#Define lists\n",
    "\n",
    "list1 = [1, 2, 3, 4, 5]\n",
    "print(\"Items of list1:\\n\", list1)\n",
    "\n",
    "# can have more than one type in a list\n",
    "list2 = [\"1\", \"Hi\", 2, \"H\", 9000]\n",
    "print(\"Items of list2:\\n\", list2)\n",
    "\n",
    "nested_list =  [ [1, 2], [3, 4], [5, 6] ]\n",
    "print(\"Items of nested_list (i.e. list of list):\\n\", nested_list)\n"
   ]
  },
  {
   "cell_type": "code",
   "execution_count": 7,
   "metadata": {},
   "outputs": [
    {
     "name": "stdout",
     "output_type": "stream",
     "text": [
      "First item in a list is at index 0 1\n",
      "Second item in a list is at index 1 2\n",
      "Last item in a list is at index -1 5\n",
      "Second to last item in a list is at index -1 4\n"
     ]
    }
   ],
   "source": [
    "# get item from list\n",
    "print(\"First item in a list is at index 0\",list1[0])\n",
    "print(\"Second item in a list is at index 1\",list1[1])\n",
    "print(\"Last item in a list is at index -1\",list1[-1])\n",
    "print(\"Second to last item in a list is at index -1\",list1[-2])\n"
   ]
  },
  {
   "cell_type": "code",
   "execution_count": 8,
   "metadata": {},
   "outputs": [
    {
     "name": "stdout",
     "output_type": "stream",
     "text": [
      "Splicing - elements from index 1 upto and not including index 3: [2, 3]\n",
      "Splicing - elements from index 0 upto and not including index 3: [1, 2, 3]\n",
      "Splicing - elements from index 1 to the end: [2, 3, 4, 5]\n"
     ]
    }
   ],
   "source": [
    "# splicing \n",
    "print(\"Splicing - elements from index 1 upto and not including index 3:\", list1[1:3])\n",
    "print(\"Splicing - elements from index 0 upto and not including index 3:\", list1[:3])\n",
    "print(\"Splicing - elements from index 1 to the end:\", list1[1:])"
   ]
  },
  {
   "cell_type": "code",
   "execution_count": 9,
   "metadata": {},
   "outputs": [
    {
     "name": "stdout",
     "output_type": "stream",
     "text": [
      "Updated list by changing the value at index 3 to 10: [1, 2, 3, 10, 5]\n"
     ]
    }
   ],
   "source": [
    "# updating lists\n",
    "list1[3] = 10\n",
    "print(\"Updated list by changing the value at index 3 to 10:\", list1)"
   ]
  },
  {
   "cell_type": "code",
   "execution_count": 10,
   "metadata": {},
   "outputs": [
    {
     "name": "stdout",
     "output_type": "stream",
     "text": [
      "list1: [1, 2, 3, 10, 5]\n",
      "Removed the element at index 2: [1, 2, 10, 5]\n"
     ]
    }
   ],
   "source": [
    "# remove element(s) in list\n",
    "print(\"list1:\", list1)\n",
    "del list1[2]\n",
    "print(\"Removed the element at index 2:\", list1)"
   ]
  },
  {
   "cell_type": "code",
   "execution_count": 11,
   "metadata": {},
   "outputs": [
    {
     "name": "stdout",
     "output_type": "stream",
     "text": [
      "\n",
      "Length of list1: 4\n",
      "Maximum value in list1: 10\n",
      "Minimum value in list1: 1\n"
     ]
    }
   ],
   "source": [
    "# list functions\n",
    "print()\n",
    "print(\"Length of list1:\", len(list1))\n",
    "print(\"Maximum value in list1:\", max(list1))\n",
    "print(\"Minimum value in list1:\", min(list1))"
   ]
  },
  {
   "cell_type": "code",
   "execution_count": 12,
   "metadata": {},
   "outputs": [
    {
     "name": "stdout",
     "output_type": "stream",
     "text": [
      "Append an item to a list:  [1, 2, 10, 5, 6]\n"
     ]
    }
   ],
   "source": [
    "# append items to list\n",
    "list1.append(6)\n",
    "print(\"Append an item to a list: \", list1)"
   ]
  },
  {
   "cell_type": "code",
   "execution_count": 13,
   "metadata": {},
   "outputs": [
    {
     "name": "stdout",
     "output_type": "stream",
     "text": [
      "\n",
      "a =  [0, 1, 2, 3]\n",
      "list a has been change due to element change in b: [0, 10, 2, 3]\n"
     ]
    }
   ],
   "source": [
    "# when new_list = a_list, the assignment copies the reference and not the actual list (a_list) \n",
    "# so both new_list and a_list refer to the same list after the assignment.\n",
    "# Read more here: https://stackoverflow.com/questions/2612802/how-to-clone-or-copy-a-list\n",
    "print()\n",
    "\n",
    "a = [0,1,2,3]\n",
    "print(\"a = \", a)\n",
    "\n",
    "b = a\n",
    "b[1] = 10\n",
    "print(\"list a has been change due to element change in b:\", a)"
   ]
  },
  {
   "cell_type": "markdown",
   "metadata": {},
   "source": [
    "## Tuples\n",
    "- A tuple is defined by parentheses (  )\n",
    "- A tuple is an immutable list (i.e. A tuple can not be changed) \n",
    "- Tuples can be accessed using square brackets [ ] like lists. The first position starts at index 0\n",
    "\n",
    "Tuples benefits:\n",
    "\n",
    "- Tuples are faster than lists if you are iterating through data\n",
    "- It makes your code safer if you “write-protect” data that doesn’t need to be changed. \n",
    "    \n",
    "http://getpython3.com/diveintopython3/native-datatypes.html#tuples"
   ]
  },
  {
   "cell_type": "code",
   "execution_count": 14,
   "metadata": {},
   "outputs": [
    {
     "name": "stdout",
     "output_type": "stream",
     "text": [
      "(1, 2, 'hi')\n"
     ]
    }
   ],
   "source": [
    "t = (1,2,\"hi\")\n",
    "print(t)\n"
   ]
  },
  {
   "cell_type": "markdown",
   "metadata": {},
   "source": [
    "## Dictionaries\n",
    "\n",
    "- A dictionary is an unordered set of key-value pairs. \n",
    "- Syntax: ```{key: value}```\n",
    "- When you add a key to a dictionary, you must also add a value for that key. (You can always change the value later.)\n",
    "- Python dictionaries are optimized for retrieving the value when you know the key, but not the other way around. "
   ]
  },
  {
   "cell_type": "code",
   "execution_count": 15,
   "metadata": {},
   "outputs": [
    {
     "name": "stdout",
     "output_type": "stream",
     "text": [
      "Name: John Doe\n",
      "Courses: ['EECE301, EECE302, EECE303']\n",
      "\n",
      "Name: John Doe\n",
      "Courses: ['EECE201, EECE202']\n"
     ]
    }
   ],
   "source": [
    "students = {\"21989472\": \"John Doe\", \"19234792\": \"Jane Doe\"}\n",
    "courses_students = {\"2198472\": [\"EECE201, EECE202, EECE203\"], \"19234792\": [\"EECE301, EECE302, EECE303\"]}\n",
    "\n",
    "print(\"Name:\", students[\"21989472\"])\n",
    "print(\"Courses:\", courses_students[\"19234792\"])\n",
    "\n",
    "# like this\n",
    "\n",
    "students = {\"21989472\": (\"John Doe\", [\"EECE201, EECE202\"]), \"19234792\": (\"Jane Doe\", [\"EECE301, EECE302\"])}\n",
    "print()\n",
    "print(\"Name:\", students[\"21989472\"][0])\n",
    "print(\"Courses:\", students[\"21989472\"][1])"
   ]
  },
  {
   "cell_type": "markdown",
   "metadata": {},
   "source": [
    "## Loops ##\n",
    "Syntax for a for loop\n",
    "```python\n",
    "for i in a_list:\n",
    "    print i # or do operations with variable i\n",
    "```\n",
    "\n",
    "Syntax for a while loop\n",
    "```python\n",
    "while (condition):\n",
    "   # do something or not do something given a condition\n",
    "\n",
    "```\n",
    "\n",
    "- The list can be any of many types including (integer, float, string, char)\n",
    "- The loop will run the indented code after the colon \n",
    "- The loop will stop at after the last item in the list. \n",
    "- Able to add break statements to end the loop"
   ]
  },
  {
   "cell_type": "code",
   "execution_count": 6,
   "metadata": {},
   "outputs": [
    {
     "name": "stdout",
     "output_type": "stream",
     "text": [
      "range is a keyword that will create a list with N items starting from index 0\n",
      "0\n",
      "1\n",
      "2\n",
      "\n",
      "0\n",
      "2\n",
      "4\n",
      "6\n",
      "8\n",
      "\n",
      "0\n",
      "1\n",
      "2\n",
      "3\n",
      "4\n",
      "5\n"
     ]
    }
   ],
   "source": [
    "# The end of the loop statement is unindented\n",
    "\n",
    "print(\"range is a keyword that will create a list with N items starting from index 0\")\n",
    "for i in range(3):\n",
    "    print(i)\n",
    "    \n",
    "print(\"For loop with even\")\n",
    "list_evens = [0, 2, 4, 6, 8];\n",
    "for i in list_evens:\n",
    "    print(i)\n",
    "\n",
    "count = 0\n",
    "print(\"While loop with break statement\")\n",
    "while(count >= 0 and count <= 5):\n",
    "    print(count)\n",
    "    # if (count == 3):\n",
    "    #     break\n",
    "    count += 1"
   ]
  },
  {
   "cell_type": "markdown",
   "metadata": {},
   "source": [
    "## List Compression\n",
    "\n",
    "- List comprehensions provide a concise way to create lists. \n",
    "- The new list is create after evaluating the expression in the context of the for and if clauses which follow it. \n"
   ]
  },
  {
   "cell_type": "code",
   "execution_count": 17,
   "metadata": {},
   "outputs": [
    {
     "name": "stdout",
     "output_type": "stream",
     "text": [
      "[0, 2, 4, 6, 8, 10, 12, 14, 16, 18]\n",
      "[0, 2, 4, 6, 8, 10, 12, 14, 16, 18]\n"
     ]
    }
   ],
   "source": [
    "# list compresssion\n",
    "\n",
    "my_list = []\n",
    "for number in range(20):\n",
    "    if number % 2 == 0:\n",
    "        my_list.append(number)\n",
    "print(my_list)\n",
    "\n",
    "# this method is faster and clearner\n",
    "my_list2 = [number for number in range(20) if number % 2 == 0]\n",
    "print(my_list2)\n"
   ]
  },
  {
   "cell_type": "markdown",
   "metadata": {},
   "source": [
    "## Functions ##\n",
    "\n",
    "- Functions are blocks of organized, reusable code that is used to perform a single, related action. \n",
    "- Functions provide better modularity for your application and a high degree of code reusing.\n",
    "\n",
    "Syntax:\n",
    "```python\n",
    "def function_name( arguments ):\n",
    "    # do stuff with arguments\n",
    "    return value\n",
    "```\n"
   ]
  },
  {
   "cell_type": "code",
   "execution_count": 18,
   "metadata": {},
   "outputs": [
    {
     "name": "stdout",
     "output_type": "stream",
     "text": [
      "37.000000 degree Celcius is 98.600000 degree Fahrenheit.\n",
      "37 degree Celcius is 98.6 degree Fahrenheit.\n"
     ]
    }
   ],
   "source": [
    "def Celsius_to_Fahrenheit(C):\n",
    "    \"\"\"\n",
    "    Converts degrees Celsius to degree Fahrenheit\n",
    "    ARGUMENTS:\n",
    "        C - temperature in degrees Celsius\n",
    "    OUTPUTS:\n",
    "        F - temperature in degrees Fahrenheit\n",
    "\n",
    "    \"\"\"\n",
    "    F = C*9/5 + 32\n",
    "    return F\n",
    "\n",
    "temp = 37\n",
    "print(\"%f degree Celcius is %f degree Fahrenheit.\" % (temp, Celsius_to_Fahrenheit(temp)) )\n",
    "\n",
    "# convert floats in to string \n",
    "# https://stackoverflow.com/questions/2440692/formatting-floats-in-python-without-superfluous-zeros\n",
    "print(\"%s degree Celcius is %s degree Fahrenheit.\"\n",
    "      % (('%f' % temp).rstrip('0').rstrip('.'), ('%f' % Celsius_to_Fahrenheit(temp)).rstrip('0').rstrip('.')))\n"
   ]
  },
  {
   "cell_type": "markdown",
   "metadata": {},
   "source": [
    "## Lambda Function\n",
    "\n",
    "Syntax: \n",
    "```python \n",
    "   simple_function = lambda arguments : one_operation_on_arguments  \n",
    "```\n",
    "\n",
    "- There's only one expression to be evaulated in a lambda. \n",
    "- Differences between functions and lambda functions: No default values in lambda parameters and no complex logic "
   ]
  },
  {
   "cell_type": "code",
   "execution_count": 19,
   "metadata": {},
   "outputs": [
    {
     "name": "stdout",
     "output_type": "stream",
     "text": [
      "2\n"
     ]
    }
   ],
   "source": [
    "add_function = lambda a, b, c : a * b\n",
    "print(add_function(1,2,3))"
   ]
  },
  {
   "cell_type": "code",
   "execution_count": 20,
   "metadata": {},
   "outputs": [
    {
     "name": "stdout",
     "output_type": "stream",
     "text": [
      "98.6\n"
     ]
    }
   ],
   "source": [
    "# the above function changed to this:\n",
    "C_to_F = lambda C : C*9/5 + 32\n",
    "print(C_to_F(37))"
   ]
  }
 ],
 "metadata": {
  "kernelspec": {
   "display_name": "Python 3",
   "language": "python",
   "name": "python3"
  },
  "language_info": {
   "codemirror_mode": {
    "name": "ipython",
    "version": 3
   },
   "file_extension": ".py",
   "mimetype": "text/x-python",
   "name": "python",
   "nbconvert_exporter": "python",
   "pygments_lexer": "ipython3",
   "version": "3.5.4"
  }
 },
 "nbformat": 4,
 "nbformat_minor": 2
}
