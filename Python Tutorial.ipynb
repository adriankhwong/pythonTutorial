{
 "cells": [
  {
   "cell_type": "markdown",
   "metadata": {},
   "source": [
    "## Differences between Python 2 and Python 3##\n",
    "\n",
    "- https://wiki.python.org/moin/Python2orPython3\n",
    "- http://python3porting.com/differences.html\n",
    "- https://www.quora.com/What-is-the-difference-between-Python-2-x-and-Python-3-x\n",
    "- http://blog.teamtreehouse.com/python-2-vs-python-3\n",
    "\n",
    "\n",
    "Why Use Python 3 instead of Python 2\n",
    "Improvements from Python 2 to Python 3\n",
    "https://www.tutorialspoint.com/python3/python3_whatisnew.htm\n",
    "\n",
    "most of this tutorial is based on this\n",
    "https://www.tutorialspoint.com/python3"
   ]
  },
  {
   "cell_type": "code",
   "execution_count": 46,
   "metadata": {},
   "outputs": [],
   "source": [
    "#introduction to jupyter notebooks\n",
    "#https://www.coursera.org/learn/python-data-analysis/lecture/A223j/python-functions"
   ]
  },
  {
   "cell_type": "markdown",
   "metadata": {},
   "source": [
    "## Comments and Strings ##"
   ]
  },
  {
   "cell_type": "code",
   "execution_count": 37,
   "metadata": {},
   "outputs": [
    {
     "name": "stdout",
     "output_type": "stream",
     "text": [
      "Hello World!\n",
      "Hello World\n"
     ]
    },
    {
     "ename": "NameError",
     "evalue": "name 'not_a_string' is not defined",
     "output_type": "error",
     "traceback": [
      "\u001b[0;31m---------------------------------------------------------------------------\u001b[0m",
      "\u001b[0;31mNameError\u001b[0m                                 Traceback (most recent call last)",
      "\u001b[0;32m<ipython-input-37-7407ae004214>\u001b[0m in \u001b[0;36m<module>\u001b[0;34m()\u001b[0m\n\u001b[1;32m     12\u001b[0m \u001b[0;34m\u001b[0m\u001b[0m\n\u001b[1;32m     13\u001b[0m \u001b[0;31m# This would not print because it is not a string\u001b[0m\u001b[0;34m\u001b[0m\u001b[0;34m\u001b[0m\u001b[0m\n\u001b[0;32m---> 14\u001b[0;31m \u001b[0mprint\u001b[0m\u001b[0;34m(\u001b[0m\u001b[0mnot_a_string\u001b[0m\u001b[0;34m)\u001b[0m\u001b[0;34m\u001b[0m\u001b[0m\n\u001b[0m",
      "\u001b[0;31mNameError\u001b[0m: name 'not_a_string' is not defined"
     ]
    }
   ],
   "source": [
    "# This is a comment\n",
    "\n",
    "'''This is also a comment'''\n",
    "\n",
    "\n",
    "print(\"Hello World!\") # print string to screen\n",
    "\n",
    "# Define a string with quotations\n",
    "message = \"Hello World\"\n",
    "print(message)\n",
    "\n",
    "\n",
    "# This would not print because it is not a string\n",
    "# You will get an error message\n",
    "print(not_a_string)"
   ]
  },
  {
   "cell_type": "markdown",
   "metadata": {},
   "source": [
    "## Variables and Math Operations ##"
   ]
  },
  {
   "cell_type": "code",
   "execution_count": 38,
   "metadata": {},
   "outputs": [
    {
     "name": "stdout",
     "output_type": "stream",
     "text": [
      "1\n",
      "The value of x is 1\n",
      "The value of x is 1 and y is 3\n",
      "\n",
      "Addition: a + b =  5\n",
      "Subtraction: a - b =  1\n",
      "Multiplication: a * b =  6\n",
      "Division: a / b =  1.5\n",
      "Modulus: a % b =  1\n",
      "Exponent: a ** b =  9\n",
      "\n",
      "Assignment operators: a+=b => a = a+b. a = 5\n"
     ]
    }
   ],
   "source": [
    "# You can also print numbers and pre-defined variables\n",
    "print(1)\n",
    "\n",
    "# printing a variable  \n",
    "x = 1\n",
    "print(\"The value of x is\", x)\n",
    "\n",
    "# printing multiple variables \n",
    "# Other ways are listed here: https://stackoverflow.com/questions/15286401/print-multiple-arguments-in-python\n",
    "y = 2 + x\n",
    "print(\"The value of x is %i and y is %i\" % (x, y))\n",
    "\n",
    "# Math operations\n",
    "a = 3\n",
    "b = 2\n",
    "\n",
    "print()  # print newline\n",
    "print(\"Addition: a + b = \", a + b)   \n",
    "print(\"Subtraction: a - b = \", a - b)    \n",
    "print(\"Multiplication: a * b = \", a * b)    \n",
    "print(\"Division: a / b = \", a / b)    \n",
    "print(\"Modulus: a % b = \", a % b)    \n",
    "print(\"Exponent: a ** b = \", a ** b)  \n",
    "\n",
    "a+=b\n",
    "print()\n",
    "print(\"Assignment operators: a+=b => a = a+b. a =\", a)"
   ]
  },
  {
   "cell_type": "code",
   "execution_count": 39,
   "metadata": {},
   "outputs": [
    {
     "name": "stdout",
     "output_type": "stream",
     "text": [
      "x: \n",
      "The value of x is \n"
     ]
    }
   ],
   "source": [
    "# Have user input a string to the program\n",
    "\n",
    "var = input(\"x: \")  # var is type string even if var is a number\n",
    "print(\"The value of x is\", var)"
   ]
  },
  {
   "cell_type": "markdown",
   "metadata": {},
   "source": [
    "## if, elif, else statements ##\n",
    "\n",
    "Syntax\n",
    "\n",
    "```python\n",
    "if (condition):\n",
    "    # execute code\n",
    "elif (condition):\n",
    "    # execute code\n",
    "elif (condition):\n",
    "    # execute code\n",
    "else:\n",
    "    # execute code\n",
    "```\n",
    "\n",
    "Look at section Python Comparison Operators for different conditions and ways to use if statement \n",
    "https://www.tutorialspoint.com/python3/python_basic_operators.htm\n"
   ]
  },
  {
   "cell_type": "code",
   "execution_count": 40,
   "metadata": {},
   "outputs": [
    {
     "name": "stdout",
     "output_type": "stream",
     "text": [
      "value of x is something completely different.\n"
     ]
    }
   ],
   "source": [
    "# Make sure you indent after an if, elif or else statements. \n",
    "# if you don't, it will produce an error. \n",
    "# Code needs to be indented after a colon : \n",
    "\n",
    "x = 12\n",
    "\n",
    "if ( x <= 10 ): # x is same as 10\n",
    "    print (\"Value of x is\", x)\n",
    "else:\n",
    "    print(\"value of x is something greater than 10.\")\n"
   ]
  },
  {
   "cell_type": "markdown",
   "metadata": {},
   "source": [
    "## Lists ##\n",
    "- A list is the same as a vector\n",
    "- A list contains elements with a position (i.e. index) in the list. \n",
    "- The first index is zero, the second index is one, and so forth. \n",
    "- A list is encompassed with squared brackets. "
   ]
  },
  {
   "cell_type": "code",
   "execution_count": 41,
   "metadata": {},
   "outputs": [
    {
     "name": "stdout",
     "output_type": "stream",
     "text": [
      "Items of list1: [1, 2, 3, 4, 5]\n",
      "Items of list2: ['1', 'Hi', 2, 'H', 9000]\n",
      "\n",
      "First item in a list is at index 0 1\n",
      "Second item in a list is at index 1 2\n",
      "Last item in a list is at index -1 5\n",
      "Second to last item in a list is at index -1 4\n",
      "\n",
      "Splicing - elements from index 1 upto and not including index 3: [2, 3]\n",
      "Splicing - elements from index 0 upto and not including index 3: [1, 2, 3]\n",
      "Splicing - elements from index 1 to the end: [2, 3, 4, 5]\n",
      "\n",
      "Updated list by changing the value at index 3 to 10: [1, 2, 3, 10, 5]\n",
      "\n",
      "Removed the element at index 2: [1, 2, 10, 5]\n",
      "\n",
      "Length of list1: 4\n",
      "Maximum value in list1: 10\n",
      "Minimum value in list1: 1\n"
     ]
    }
   ],
   "source": [
    "list1 = [1, 2, 3, 4, 5];\n",
    "print(\"Items of list1:\", list1)\n",
    "\n",
    "# can have more than one type in a list\n",
    "list2 = [\"1\", \"Hi\", 2, \"H\", 9000]\n",
    "print(\"Items of list2:\", list2)\n",
    "\n",
    "print()\n",
    "print(\"First item in a list is at index 0\",list1[0])\n",
    "print(\"Second item in a list is at index 1\",list1[1])\n",
    "print(\"Last item in a list is at index -1\",list1[-1])\n",
    "print(\"Second to last item in a list is at index -1\",list1[-2])\n",
    "\n",
    "\n",
    "# splicing \n",
    "print()\n",
    "print(\"Splicing - elements from index 1 upto and not including index 3:\", list1[1:3])\n",
    "print(\"Splicing - elements from index 0 upto and not including index 3:\", list1[:3])\n",
    "print(\"Splicing - elements from index 1 to the end:\", list1[1:])\n",
    "\n",
    "# updating lists\n",
    "list1[3] = 10\n",
    "print()\n",
    "print(\"Updated list by changing the value at index 3 to 10:\", list1)\n",
    "\n",
    "# deleting elements in list\n",
    "del list1[2]\n",
    "print()\n",
    "print(\"Removed the element at index 2:\", list1)\n",
    "\n",
    "# list functions\n",
    "print()\n",
    "print(\"Length of list1:\", len(list1))\n",
    "print(\"Maximum value in list1:\", max(list1))\n",
    "print(\"Minimum value in list1:\", min(list1))\n",
    "\n",
    "# add append"
   ]
  },
  {
   "cell_type": "markdown",
   "metadata": {},
   "source": [
    "## Loops ##\n",
    "```python\n",
    "for i in a_list:\n",
    "    print i\n",
    "```\n",
    "\n",
    "- It can be any of many types including (integer, float, string, char)\n",
    "- The loop will run the indented code\n",
    "- The loop will stop at after the last item in the list. "
   ]
  },
  {
   "cell_type": "code",
   "execution_count": 4,
   "metadata": {},
   "outputs": [
    {
     "name": "stdout",
     "output_type": "stream",
     "text": [
      "range is a keyword that will create a list with N items starting from index 0\n",
      "0\n",
      "1\n",
      "2\n",
      "\n",
      "0\n",
      "2\n",
      "4\n",
      "6\n",
      "8\n"
     ]
    }
   ],
   "source": [
    "# The end of the loop statement is unindented\n",
    "\n",
    "print(\"range is a keyword that will create a list with N items starting from index 0\")\n",
    "for i in range(3):\n",
    "    print(i)\n",
    "    \n",
    "print()    \n",
    "list_evens = [0, 2, 4, 6, 8];\n",
    "for i in list_evens:\n",
    "    print(i)\n",
    "    \n",
    "    \n",
    "# while loop\n",
    "# break"
   ]
  },
  {
   "cell_type": "markdown",
   "metadata": {},
   "source": [
    "## Functions ##\n",
    "\n",
    "Syntax\n",
    "```python\n",
    "def functionname( arguments ):\n",
    "    # do stuff with arguments\n",
    "    return None\n",
    "```\n"
   ]
  },
  {
   "cell_type": "code",
   "execution_count": 48,
   "metadata": {},
   "outputs": [
    {
     "name": "stdout",
     "output_type": "stream",
     "text": [
      "37.000000 degree Celcius is 98.600000 degree Fahrenheit.\n",
      "37 degree Celcius is 98.6 degree Fahrenheit.\n"
     ]
    }
   ],
   "source": [
    "def Celsius_to_Fahrenheit(C):\n",
    "    \"\"\"\n",
    "    Converts degrees Celsius to degree Fahrenheit\n",
    "    Input\n",
    "    Output\n",
    "\n",
    "    \"\"\"\n",
    "    F = C*9/5 + 32\n",
    "    return F\n",
    "\n",
    "temp = 37\n",
    "print(\"%f degree Celcius is %f degree Fahrenheit.\" % (temp, Celsius_to_Fahrenheit(temp)) )\n",
    "\n",
    "# convert floats in to string \n",
    "# https://stackoverflow.com/questions/2440692/formatting-floats-in-python-without-superfluous-zeros\n",
    "print(\"%s degree Celcius is %s degree Fahrenheit.\"\n",
    "      % (('%f' % temp).rstrip('0').rstrip('.'), ('%f' % Celsius_to_Fahrenheit(temp)).rstrip('0').rstrip('.')))\n"
   ]
  },
  {
   "cell_type": "code",
   "execution_count": 44,
   "metadata": {},
   "outputs": [
    {
     "name": "stdout",
     "output_type": "stream",
     "text": [
      "(1, 2, 'hi')\n"
     ]
    }
   ],
   "source": [
    "#tuples - are not mutatable \n",
    "# change change a tuple. not widely use\n",
    "\n",
    "\n",
    "t = (1,2,\"hi\")\n",
    "print(t)\n"
   ]
  },
  {
   "cell_type": "code",
   "execution_count": 45,
   "metadata": {},
   "outputs": [
    {
     "name": "stdout",
     "output_type": "stream",
     "text": [
      "Adrian\n",
      "['Vancouver', 'Toronto', 'Montreal']\n",
      "Vancouver\n"
     ]
    }
   ],
   "source": [
    "# dictionary\n",
    "# create own indices  \n",
    "# key: value\n",
    "# unorder\n",
    "d = {\"name\": \"Adrian\", \"Surname\": \"Wong\", \"Cities\": [\"Vancouver\", \"Toronto\", \"Montreal\"]}\n",
    "print(d[\"name\"])\n",
    "print(d[\"Cities\"])\n",
    "print(d[\"Cities\"][0])"
   ]
  },
  {
   "cell_type": "code",
   "execution_count": null,
   "metadata": {},
   "outputs": [],
   "source": [
    "#https://thenewboston.com/videos.php?cat=98\n",
    "#https://learnxinyminutes.com/docs/python3/"
   ]
  }
 ],
 "metadata": {
  "kernelspec": {
   "display_name": "Python 3",
   "language": "python",
   "name": "python3"
  },
  "language_info": {
   "codemirror_mode": {
    "name": "ipython",
    "version": 3
   },
   "file_extension": ".py",
   "mimetype": "text/x-python",
   "name": "python",
   "nbconvert_exporter": "python",
   "pygments_lexer": "ipython3",
   "version": "3.5.4"
  }
 },
 "nbformat": 4,
 "nbformat_minor": 2
}
