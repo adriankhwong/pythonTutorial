{
 "cells": [
  {
   "cell_type": "markdown",
   "metadata": {},
   "source": [
    "## Introduction to Numpy\n",
    "\n",
    "[Numpy](http://www.numpy.org/) stands for Numerical Python. Numpy is the core library for scientific computing in Python. It provides a high-performance multidimensional array object, and tools for working with these arrays. If you know MATLAB, check this [tutorial](https://docs.scipy.org/doc/numpy-dev/user/numpy-for-matlab-users.html) as a stepping stone to learning Numpy. "
   ]
  },
  {
   "cell_type": "markdown",
   "metadata": {},
   "source": [
    "## Arrays\n",
    "\n",
    "A numpy array is a grid of elements (i.e. matrix) with the same type. Syntax to initialize arrays:\n",
    "```python\n",
    "import numpy as np\n",
    "np.array(list)\n",
    "```\n",
    "\n",
    "The shape of an array is a tuple of integers giving the size of the array. numpy arrays can be initialized from nested lists, and access elements using square brackets"
   ]
  },
  {
   "cell_type": "code",
   "execution_count": 1,
   "metadata": {},
   "outputs": [
    {
     "name": "stdout",
     "output_type": "stream",
     "text": [
      "The array, A: \n",
      " [1 2 3]\n",
      "\n",
      "The array, A, has type: <class 'numpy.ndarray'>\n",
      "The array, A, has shape (i.e. size): (3,)\n",
      "Access individual elements of array A, A[0]=1, A[1]=2, A[2]=3\n",
      "\n",
      "Change an element of an array:\n",
      " [10  2  3]\n",
      "\n",
      "The array, B: \n",
      " [[1 2 3]\n",
      " [4 5 6]]\n",
      "\n",
      "The array, B, has shape (i.e. size): (2, 3)\n",
      "Access individual elements of array B, B[0,0]=1, B[0,1]=2, B[1, 0]=4\n"
     ]
    }
   ],
   "source": [
    "import numpy as np\n",
    "\n",
    "A = np.array([1, 2, 3])   # Create a 3x1 array\n",
    "print(\"The array, A: \\n\", A)\n",
    "\n",
    "print()\n",
    "print(\"The array, A, has type:\", type(A))\n",
    "print(\"The array, A, has shape (i.e. size):\", A.shape)    \n",
    "print(\"Access individual elements of array A, A[0]=%i, A[1]=%i, A[2]=%i\" % (A[0], A[1], A[2]) ) \n",
    "\n",
    "\n",
    "A[0] = 10                 \n",
    "print()\n",
    "print(\"Change an element of an array:\\n\", A) \n",
    "\n",
    "\n",
    "B = np.array([[1,2,3],[4,5,6]])    # Create a rank 2x3 array\n",
    "print()\n",
    "print(\"The array, B: \\n\", B)\n",
    "print()\n",
    "print(\"The array, B, has shape (i.e. size):\", B.shape)                    \n",
    "print(\"Access individual elements of array B, B[0,0]=%i, B[0,1]=%i, B[1, 0]=%i\" % (B[0,0], B[0,1], B[1,0]))  "
   ]
  },
  {
   "cell_type": "markdown",
   "metadata": {},
   "source": [
    "## Array indexing\n",
    "\n",
    "**Slicing** - A subset of an array. Arrays can be multidimensional, So you must specify a slice for each dimension of the array\n",
    "\n",
    "https://docs.scipy.org/doc/numpy/reference/generated/numpy.copy.html\n"
   ]
  },
  {
   "cell_type": "code",
   "execution_count": 7,
   "metadata": {},
   "outputs": [
    {
     "name": "stdout",
     "output_type": "stream",
     "text": [
      "Array A:\n",
      " [[1 2 3]\n",
      " [4 5 6]\n",
      " [7 8 9]]\n",
      "\n",
      "Array b:\n",
      " [2 5]\n",
      "\n",
      "Value at A[0, 1] is 2\n",
      "Value at A[0, 1] has changed to 10\n",
      "\n",
      "Value at A[2, 1] is 8\n",
      "Value at x[2, 1] is 10\n",
      "Value at y[2, 1] is 8\n"
     ]
    }
   ],
   "source": [
    "\n",
    "# Create the following rank 2 array with shape (3, 4)\n",
    "# [[ 1 2 3 ]\n",
    "#  [ 4 5 6 ]\n",
    "#  [ 7 8 9 ]]\n",
    "A = np.array([[1, 2, 3], [4, 5, 6], [7, 8, 9]])\n",
    "print(\"Array A:\\n\", A)\n",
    "\n",
    "# Use slicing to pull out the subarray consisting of the first 2 rows\n",
    "# and column 1 and 2; b is the following array of shape (2, 1):\n",
    "print()\n",
    "b = A[:2, 1]\n",
    "print(\"Array b:\\n\", b)\n",
    "\n",
    "# A slice of an array is a view into the same data, If the slice is modified,\n",
    "# this will modify the original array.\n",
    "\n",
    "print()\n",
    "print(\"Value at A[0, 1] is\",A[0, 1])   # Prints \"2\"\n",
    "b[0] = 10     # b[0, 0] is the same piece of data as a[0, 1]\n",
    "print(\"Value at A[0, 1] has changed to\", A[0, 1])   # Prints \"77\"\n",
    "\n",
    "\n",
    "# A way to get around this is to make a copy of array A \n",
    "# Create an array x, with a reference y and a copy z:\n",
    "\n",
    "x = A\n",
    "y = np.copy(A)   # Same as    np.array(A, copy=True)  \n",
    "\n",
    "# Note that, when we modify x, y changes, but not z:\n",
    "print()\n",
    "print(\"Value at A[2, 1] is\", A[2, 1])  \n",
    "\n",
    "A[2, 1] = 10\n",
    "print(\"Value at x[2, 1] is\", x[2, 1])  \n",
    "print(\"Value at y[2, 1] is\", y[2, 1])  \n",
    " "
   ]
  },
  {
   "cell_type": "code",
   "execution_count": 3,
   "metadata": {},
   "outputs": [],
   "source": [
    "# https://stackoverflow.com/questions/22053050/difference-between-numpy-array-shape-r-1-and-r"
   ]
  },
  {
   "cell_type": "code",
   "execution_count": null,
   "metadata": {},
   "outputs": [],
   "source": [
    "\n",
    "# Create the following rank 2 array with shape (3, 4)\n",
    "# [[ 1  2  3  4]\n",
    "#  [ 5  6  7  8]\n",
    "#  [ 9 10 11 12]]\n",
    "a = np.array([[1,2,3,4], [5,6,7,8], [9,10,11,12]])\n",
    "\n",
    "# Two ways of accessing the data in the middle row of the array.\n",
    "# Mixing integer indexing with slices yields an array of lower rank,\n",
    "# while using only slices yields an array of the same rank as the\n",
    "# original array:\n",
    "row_r1 = a[1, :]    # Rank 1 view of the second row of a\n",
    "row_r2 = a[1:2, :]  # Rank 2 view of the second row of a\n",
    "print(row_r1, row_r1.shape)  # Prints \"[5 6 7 8] (4,)\"\n",
    "print(row_r2, row_r2.shape)  # Prints \"[[5 6 7 8]] (1, 4)\"\n",
    "\n",
    "# We can make the same distinction when accessing columns of an array:\n",
    "col_r1 = a[:, 1]\n",
    "col_r2 = a[:, 1:2]\n",
    "print(col_r1, col_r1.shape)  # Prints \"[ 2  6 10] (3,)\"\n",
    "print(col_r2, col_r2.shape)  # Prints \"[[ 2]\n",
    "                             #          [ 6]\n",
    "                             #          [10]] (3, 1)\"\n"
   ]
  },
  {
   "cell_type": "code",
   "execution_count": 10,
   "metadata": {},
   "outputs": [
    {
     "name": "stdout",
     "output_type": "stream",
     "text": [
      "Boolean mask:\n",
      " [[False False]\n",
      " [False  True]\n",
      " [ True  True]]\n",
      "Slice of array A indexed with a bool_mask:\n",
      " [4 5 6]\n",
      "A quicker way is to not declare a mask variable:\n",
      " [4 5 6]\n"
     ]
    }
   ],
   "source": [
    "import numpy as np\n",
    "\n",
    "A = np.array([[1,2], [3, 4], [5, 6]])\n",
    "\n",
    "bool_mask = (A > 3)   # Find the elements of a that are bigger than 3;\n",
    "                      # this returns a numpy array of Booleans of the same\n",
    "                      # shape as A, where each slot of bool_idx tells\n",
    "                      # whether that element of A is > 3.\n",
    "\n",
    "print(\"Boolean mask:\\n\", bool_mask)      \n",
    "\n",
    "# We use boolean array indexing to construct a rank 1 array\n",
    "# consisting of the elements of a corresponding to the True values\n",
    "# of bool_idx\n",
    "print(\"Slice of array A indexed with a bool_mask:\\n\" , A[bool_mask])  # Prints \"[3 4 5 6]\"\n",
    "\n",
    "# We can do all of the above in a single concise statement:\n",
    "print(\"A quicker way is to not declare a mask variable:\\n\", A[A > 3])   \n"
   ]
  },
  {
   "cell_type": "code",
   "execution_count": 12,
   "metadata": {},
   "outputs": [
    {
     "name": "stdout",
     "output_type": "stream",
     "text": [
      "Addition:\n",
      " [[ 6  8]\n",
      " [10 12]]\n",
      "Subtraction:\n",
      " [[-4 -4]\n",
      " [-4 -4]]\n",
      "Multiply:\n",
      " [[ 5 12]\n",
      " [21 32]]\n",
      "Divide:\n",
      " [[ 0.2         0.33333333]\n",
      " [ 0.42857143  0.5       ]]\n",
      "Square root:\n",
      " [[ 1.          1.41421356]\n",
      " [ 1.73205081  2.        ]]\n"
     ]
    }
   ],
   "source": [
    "import numpy as np\n",
    "\n",
    "x = np.array([[1,2],[3,4]])\n",
    "y = np.array([[5,6],[7,8]])\n",
    "\n",
    "# Elementwise sum; both produce the array\n",
    "# [[ 6.0  8.0]\n",
    "#  [10.0 12.0]]\n",
    "print(\"Addition:\\n\", x + y)\n",
    "\n",
    "# Elementwise difference; both produce the array\n",
    "# [[-4.0 -4.0]\n",
    "#  [-4.0 -4.0]]\n",
    "print(\"Subtraction:\\n\", x - y)\n",
    "\n",
    "# Elementwise product; both produce the array\n",
    "# [[ 5.0 12.0]\n",
    "#  [21.0 32.0]]\n",
    "print(\"Multiply:\\n\", x * y)\n",
    "\n",
    "# Elementwise division; both produce the array\n",
    "# [[ 0.2         0.33333333]\n",
    "#  [ 0.42857143  0.5       ]]\n",
    "print(\"Divide:\\n\", x / y)\n",
    "\n",
    "# Elementwise square root; produces the array\n",
    "# [[ 1.          1.41421356]\n",
    "#  [ 1.73205081  2.        ]]\n",
    "print(\"Square root:\\n\", np.sqrt(x))\n"
   ]
  },
  {
   "cell_type": "markdown",
   "metadata": {},
   "source": [
    "Some useful functions from Numpy:\n",
    "\n",
    "- [numpy.zeros](https://docs.scipy.org/doc/numpy/reference/generated/numpy.zeros.html), return a new array of given shape and type, filled with zeros.\n",
    "- [numpy.ones](https://docs.scipy.org/doc/numpy/reference/generated/numpy.ones.html), return a new array of given shape and type, filled with ones.\n",
    "- [numpy.eye](https://docs.scipy.org/doc/numpy/reference/generated/numpy.eye.html), return a 2-D array with ones on the diagonal and zeros elsewhere.\n",
    "- [numpy.random.random](https://docs.scipy.org/doc/numpy/reference/generated/numpy.random.random.html), return random floats in the interval \\[0.0, 1.0). The results are from the “continuous uniform” distribution over the stated interval\n",
    "- [numpy.T](https://docs.scipy.org/doc/numpy/reference/generated/numpy.ndarray.T.html), returns the transpose of a matrix. Same as [self.transpose()](https://docs.scipy.org/doc/numpy/reference/generated/numpy.transpose.html), except that self is returned if self.ndim < 2.\n",
    "\n"
   ]
  },
  {
   "cell_type": "code",
   "execution_count": 5,
   "metadata": {},
   "outputs": [
    {
     "name": "stdout",
     "output_type": "stream",
     "text": [
      "An array of all zeros:\n",
      " [[ 0.  0.]\n",
      " [ 0.  0.]]\n",
      "An array of all ones:\n",
      " [[ 1.  1.]\n",
      " [ 1.  1.]]\n",
      "A 2x2 identity matrix:\n",
      " [[ 1.  0.]\n",
      " [ 0.  1.]]\n",
      "an array filled with random values:\n",
      " [[ 0.06330702  0.23108711]\n",
      " [ 0.66156367  0.79949414]]\n",
      "an array filled with random values:\n",
      " [[ 0.06330702  0.66156367]\n",
      " [ 0.23108711  0.79949414]]\n"
     ]
    }
   ],
   "source": [
    "A = np.zeros((2,2))   \n",
    "print(\"An array of all zeros:\\n\", A)           \n",
    "\n",
    "B = np.ones((2,2))  \n",
    "print(\"An array of all ones:\\n\", B)              \n",
    "\n",
    "C = np.eye(2)\n",
    "print(\"A 2x2 identity matrix:\\n\", C)              \n",
    "\n",
    "D = np.random.random((2,2))\n",
    "print(\"An array filled with random values:\\n\", D)                     \n",
    "\n",
    "E = D.T\n",
    "print(\"Transpose of an array:\\n\", E)    "
   ]
  },
  {
   "cell_type": "code",
   "execution_count": null,
   "metadata": {},
   "outputs": [],
   "source": [
    "http://cs231n.github.io/python-numpy-tutorial/#numpy\n",
    "    https://docs.scipy.org/doc/numpy/reference/generated/numpy.copy.html"
   ]
  },
  {
   "cell_type": "code",
   "execution_count": null,
   "metadata": {},
   "outputs": [],
   "source": []
  }
 ],
 "metadata": {
  "kernelspec": {
   "display_name": "Python 3",
   "language": "python",
   "name": "python3"
  },
  "language_info": {
   "codemirror_mode": {
    "name": "ipython",
    "version": 3
   },
   "file_extension": ".py",
   "mimetype": "text/x-python",
   "name": "python",
   "nbconvert_exporter": "python",
   "pygments_lexer": "ipython3",
   "version": "3.5.4"
  }
 },
 "nbformat": 4,
 "nbformat_minor": 2
}
