{
 "cells": [
  {
   "cell_type": "markdown",
   "metadata": {},
   "source": [
    "## Introduction to Numpy\n",
    "\n",
    "[Numpy](http://www.numpy.org/) stands for Numerical Python. Numpy is the core library for scientific computing in Python. It provides a high-performance multidimensional array object, and tools for working with these arrays. If you know MATLAB, check this [tutorial](https://docs.scipy.org/doc/numpy-dev/user/numpy-for-matlab-users.html) as a stepping stone to learning Numpy. "
   ]
  },
  {
   "cell_type": "markdown",
   "metadata": {},
   "source": [
    "## Numpy Arrays\n",
    "\n",
    "A numpy array is a grid of elements (i.e. matrix) with the same type. \n",
    "\n",
    "Syntax to initialize arrays:\n",
    "```python\n",
    "import numpy as np\n",
    "A = np.array(list)\n",
    "```\n",
    "\n",
    "The shape of an array is a tuple of integers giving the size of the array. numpy arrays can be initialized from nested lists, and access elements using square brackets"
   ]
  },
  {
   "cell_type": "code",
   "execution_count": 1,
   "metadata": {},
   "outputs": [
    {
     "name": "stdout",
     "output_type": "stream",
     "text": [
      "The array, A: \n",
      " [1 2 3]\n",
      "\n",
      "The array, A, has type: <class 'numpy.ndarray'>\n",
      "The array, A, has shape (i.e. size): (3,)\n",
      "Access individual elements of array A, A[0]=1, A[1]=2, A[2]=3\n"
     ]
    }
   ],
   "source": [
    "import numpy as np\n",
    "\n",
    "A = None # Create a (3,) array\n",
    "print(\"The array, A: \\n\", A)\n",
    "\n",
    "print()\n",
    "print(\"The array, A, has type:\", None)\n",
    "print(\"The array, A, has shape (i.e. size):\", None)    \n",
    "print(\"Access individual elements of array A, A[0]=%i, A[1]=%i, A[2]=%i\" % None ) "
   ]
  },
  {
   "cell_type": "code",
   "execution_count": 2,
   "metadata": {},
   "outputs": [
    {
     "name": "stdout",
     "output_type": "stream",
     "text": [
      "Change an element of an array:\n",
      " [10  2  3]\n"
     ]
    }
   ],
   "source": [
    "None               \n",
    "print(\"Change an element of an array:\\n\", None) "
   ]
  },
  {
   "cell_type": "code",
   "execution_count": 3,
   "metadata": {},
   "outputs": [
    {
     "name": "stdout",
     "output_type": "stream",
     "text": [
      "The array, B: \n",
      " [[1 2 3]\n",
      " [4 5 6]]\n",
      "\n",
      "The array, B, has shape (i.e. size): (2, 3)\n",
      "Access individual elements of array B, B[0,0]=1, B[0,1]=2, B[1, 0]=4\n"
     ]
    }
   ],
   "source": [
    "B = None  # Create a rank 2x3 array\n",
    "\n",
    "print(\"The array, B: \\n\", None)\n",
    "print()\n",
    "print(\"The array, B, has shape (i.e. size):\", None)                    \n",
    "print(\"Access individual elements of array B, B[0,0]=%i, B[0,1]=%i, B[1, 0]=%i\" None) "
   ]
  },
  {
   "cell_type": "markdown",
   "metadata": {},
   "source": [
    "## Array Slicing\n",
    "\n",
    "**Slicing** - A subset of an array. Arrays can be multidimensional, So you must specify a slice for each dimension of the array\n",
    "\n",
    "https://docs.scipy.org/doc/numpy/reference/generated/numpy.copy.html\n"
   ]
  },
  {
   "cell_type": "code",
   "execution_count": 4,
   "metadata": {},
   "outputs": [
    {
     "name": "stdout",
     "output_type": "stream",
     "text": [
      "Array A:\n",
      " [[1 2 3]\n",
      " [4 5 6]\n",
      " [7 8 9]]\n",
      "\n",
      "Array b:\n",
      " [2 5]\n"
     ]
    }
   ],
   "source": [
    "# Create the following rank 2 array with shape (3, 3)\n",
    "A = np.array([[1, 2, 3], [4, 5, 6], [7, 8, 9]])\n",
    "print(\"Array A:\\n\", A)\n",
    "\n",
    "# Use slicing to pull out the subarray consisting of the first 2 rows\n",
    "# and column 1 and 2; b is the following array of shape (2, 1):\n",
    "print()\n",
    "b = A[:2, 1]\n",
    "print(\"Array b:\\n\", b)"
   ]
  },
  {
   "cell_type": "code",
   "execution_count": 5,
   "metadata": {},
   "outputs": [
    {
     "name": "stdout",
     "output_type": "stream",
     "text": [
      "Value at A[0, 1] is 2\n",
      "Value at A[0, 1] has changed to 10\n"
     ]
    }
   ],
   "source": [
    "# A slice of an array is a view into the same data, If the slice is modified,\n",
    "# this will modify the original array.\n",
    "\n",
    "print(\"Value at A[0, 1] is\",A[0, 1])   # Prints \"2\"\n",
    "b[0] = 10     # b[0, 0] is the same piece of data as a[0, 1]\n",
    "print(\"Value at A[0, 1] has changed to\", A[0, 1])   # Prints \"77\""
   ]
  },
  {
   "cell_type": "code",
   "execution_count": 6,
   "metadata": {},
   "outputs": [
    {
     "name": "stdout",
     "output_type": "stream",
     "text": [
      "\n",
      "Value at A[2, 1] is 8\n",
      "Value at x[2, 1] is 10\n",
      "Value at y[2, 1] is 8\n"
     ]
    }
   ],
   "source": [
    "# A way to get around this is to make a copy of array A \n",
    "# Create an array x, with a reference y and a copy z:\n",
    "\n",
    "x = A\n",
    "y = np.copy(A)   # Same as    np.array(A, copy=True)  \n",
    "\n",
    "# Note that, when we modify x, y changes, but not z:\n",
    "print()\n",
    "print(\"Value at A[2, 1] is\", A[2, 1])  \n",
    "\n",
    "A[2, 1] = 10\n",
    "print(\"Value at x[2, 1] is\", x[2, 1])  \n",
    "print(\"Value at y[2, 1] is\", y[2, 1])  \n",
    " "
   ]
  },
  {
   "cell_type": "code",
   "execution_count": 7,
   "metadata": {},
   "outputs": [
    {
     "name": "stdout",
     "output_type": "stream",
     "text": [
      "Boolean mask:\n",
      " [[False False]\n",
      " [False  True]\n",
      " [ True  True]]\n",
      "Slice of array A indexed with a bool_mask:\n",
      " [4 5 6]\n",
      "A quicker way is to not declare a mask variable:\n",
      " [4 5 6]\n"
     ]
    }
   ],
   "source": [
    "A = np.array([[1,2], [3, 4], [5, 6]])\n",
    "\n",
    "bool_mask = (A > 3)   # Find the elements of a that are bigger than 3;\n",
    "                      # this returns a numpy array of Booleans of the same\n",
    "                      # shape as A, where each slot of bool_idx tells\n",
    "                      # whether that element of A is > 3.\n",
    "\n",
    "print(\"Boolean mask:\\n\", bool_mask)      \n",
    "\n",
    "# We use boolean array indexing to construct a rank 1 array\n",
    "# consisting of the elements of a corresponding to the True values\n",
    "# of bool_idx\n",
    "print(\"Slice of array A indexed with a bool_mask:\\n\" , A[bool_mask])  # Prints \"[3 4 5 6]\"\n",
    "\n",
    "# We can do all of the above in a single concise statement:\n",
    "print(\"A quicker way is to not declare a mask variable:\\n\", A[A > 3])   \n"
   ]
  },
  {
   "cell_type": "code",
   "execution_count": 8,
   "metadata": {},
   "outputs": [
    {
     "name": "stdout",
     "output_type": "stream",
     "text": [
      "Addition:\n",
      " [[ 6  8]\n",
      " [10 12]]\n",
      "Subtraction:\n",
      " [[-4 -4]\n",
      " [-4 -4]]\n",
      "Multiply:\n",
      " [[ 5 12]\n",
      " [21 32]]\n",
      "Divide:\n",
      " [[ 0.2         0.33333333]\n",
      " [ 0.42857143  0.5       ]]\n",
      "Square root:\n",
      " [[ 1.          1.41421356]\n",
      " [ 1.73205081  2.        ]]\n"
     ]
    }
   ],
   "source": [
    "x = np.array([[1,2],[3,4]])\n",
    "y = np.array([[5,6],[7,8]])\n",
    "\n",
    "# Elementwise addition\n",
    "print(\"Addition:\\n\", x + y)\n",
    "\n",
    "# Elementwise subtraction\n",
    "print(\"Subtraction:\\n\", x - y)\n",
    "\n",
    "# Elementwise product\n",
    "print(\"Multiply:\\n\", x * y)\n",
    "\n",
    "# Elementwise division; both produce the array\n",
    "print(\"Divide:\\n\", x / y)\n",
    "\n",
    "# Elementwise square root; produces the array\n",
    "print(\"Square root:\\n\", np.sqrt(x))"
   ]
  },
  {
   "cell_type": "markdown",
   "metadata": {},
   "source": [
    "## Numpy functions\n",
    "\n",
    "Some functions that might be useful for you:\n",
    "\n",
    "- [numpy.zeros](https://docs.scipy.org/doc/numpy/reference/generated/numpy.zeros.html), return a new array of given shape and type, filled with zeros.\n",
    "- [numpy.ones](https://docs.scipy.org/doc/numpy/reference/generated/numpy.ones.html), return a new array of given shape and type, filled with ones.\n",
    "- [numpy.eye](https://docs.scipy.org/doc/numpy/reference/generated/numpy.eye.html), return a 2-D array with ones on the diagonal and zeros elsewhere.\n",
    "- [numpy.random.random](https://docs.scipy.org/doc/numpy/reference/generated/numpy.random.random.html), return random floats in the interval \\[0.0, 1.0). The results are from the “continuous uniform” distribution over the stated interval\n",
    "- [numpy.T](https://docs.scipy.org/doc/numpy/reference/generated/numpy.ndarray.T.html), returns the transpose of a matrix. Same as [self.transpose()](https://docs.scipy.org/doc/numpy/reference/generated/numpy.transpose.html), except that self is returned if self.ndim < 2.\n",
    "- [numpy.roll](https://docs.scipy.org/doc/numpy/reference/generated/numpy.roll.html), Roll array elements along a given axis. Elements that roll beyond the last position are re-introduced at the first.\n",
    "\n"
   ]
  },
  {
   "cell_type": "code",
   "execution_count": 9,
   "metadata": {},
   "outputs": [
    {
     "name": "stdout",
     "output_type": "stream",
     "text": [
      "An array of all zeros:\n",
      " [[ 0.  0.]\n",
      " [ 0.  0.]]\n",
      "An array of all ones:\n",
      " [[ 1.  1.]\n",
      " [ 1.  1.]]\n",
      "A 2x2 identity matrix:\n",
      " [[ 1.  0.]\n",
      " [ 0.  1.]]\n",
      "An array filled with random values:\n",
      " [[ 0.42773585  0.56911967]\n",
      " [ 0.71303308  0.17376057]]\n",
      "Transpose of an array:\n",
      " [[ 0.42773585  0.71303308]\n",
      " [ 0.56911967  0.17376057]]\n",
      "Roll a vector in one position:\n",
      " [0 1 2 3 4]\n",
      "Roll a vector in one position:\n",
      " [4 0 1 2 3]\n"
     ]
    }
   ],
   "source": [
    "A = np.zeros((2,2))   \n",
    "print(\"An array of all zeros:\\n\", A)           \n",
    "\n",
    "B = np.ones((2,2))  \n",
    "print(\"An array of all ones:\\n\", B)              \n",
    "\n",
    "C = np.eye(2)\n",
    "print(\"A 2x2 identity matrix:\\n\", C)              \n",
    "\n",
    "D = np.random.random((2,2))\n",
    "print(\"An array filled with random values:\\n\", D)                     \n",
    "\n",
    "E = D.T\n",
    "print(\"Transpose of an array:\\n\", E)  \n",
    "\n",
    "F = np.array([0,1,2,3,4])\n",
    "print(\"Roll a vector in one position:\\n\", F)  \n",
    "print(\"Roll a vector in one position:\\n\", np.roll(F, 1))  \n"
   ]
  },
  {
   "cell_type": "markdown",
   "metadata": {},
   "source": [
    "## (R,1) versus (R,)\n",
    "For more information, read this: [stackoverflow](https://stackoverflow.com/questions/22053050/difference-between-numpy-array-shape-r-1-and-r)"
   ]
  },
  {
   "cell_type": "code",
   "execution_count": 7,
   "metadata": {},
   "outputs": [
    {
     "name": "stdout",
     "output_type": "stream",
     "text": [
      "Array A:\n",
      " [ 1.62434536 -0.61175641 -0.52817175 -1.07296862]\n",
      "Array A has shape:\n",
      " (4,)\n",
      "Results of dot product of A and A.T (transpose):\n",
      " 4.44297083412\n",
      "Results of dot product of A.T and A (transpose):\n",
      " 4.44297083412\n"
     ]
    }
   ],
   "source": [
    "np.random.seed(1)  # makes random numbers predictable\n",
    "A = np.random.randn(4) \n",
    "print(\"Array A:\\n\", A)\n",
    "print(\"Array A has shape:\\n\", A.shape)\n",
    "print(\"Results of dot product of A and A.T (transpose):\\n\", np.dot(A.T,A)) # both outer product an dinner product produce one value?!?!\n",
    "print(\"Results of dot product of A.T and A (transpose):\\n\", np.dot(A,A.T)) # both outer product an dinner product produce one value?!?!"
   ]
  },
  {
   "cell_type": "code",
   "execution_count": 8,
   "metadata": {},
   "outputs": [
    {
     "name": "stdout",
     "output_type": "stream",
     "text": [
      "Array A:\n",
      " [[ 1.62434536]\n",
      " [-0.61175641]\n",
      " [-0.52817175]\n",
      " [-1.07296862]]\n",
      "Array A.T (transpose):\n",
      " [[ 1.62434536 -0.61175641 -0.52817175 -1.07296862]]\n",
      "Inner product:\n",
      " [[ 4.44297083]]\n",
      "Outer product:\n",
      " [[ 2.63849786 -0.99370369 -0.85793334 -1.74287161]\n",
      " [-0.99370369  0.37424591  0.32311246  0.65639544]\n",
      " [-0.85793334  0.32311246  0.2789654   0.56671172]\n",
      " [-1.74287161  0.65639544  0.56671172  1.15126166]]\n"
     ]
    }
   ],
   "source": [
    "# recommendation. Have arrays and vectors explicit and not (m,) instead have the shape be (m,1) or (1,n)\n",
    "np.random.seed(1) \n",
    "A = np.random.randn(4,1) # column vector\n",
    "print(\"Array A:\\n\", A)\n",
    "print(\"Array A.T (transpose):\\n\", A.T)\n",
    "\n",
    "print(\"Inner product:\\n\", np.dot(A.T,A))\n",
    "print(\"Outer product:\\n\", np.dot(A,A.T))"
   ]
  },
  {
   "cell_type": "code",
   "execution_count": 9,
   "metadata": {},
   "outputs": [
    {
     "name": "stdout",
     "output_type": "stream",
     "text": [
      "A as a column vector:\n",
      " [[ 1.62434536]\n",
      " [-0.61175641]\n",
      " [-0.52817175]\n",
      " [-1.07296862]]\n",
      "A as a column vector:\n",
      " [[ 1.62434536 -0.61175641 -0.52817175 -1.07296862]]\n"
     ]
    }
   ],
   "source": [
    "np.random.seed(1) \n",
    "A = np.random.randn(4) \n",
    "\n",
    "A_column = np.reshape(A,(4,1))\n",
    "print(\"A as a column vector:\\n\", A_column)\n",
    "\n",
    "A_row = np.reshape(A,(1,4))\n",
    "print(\"A as a column vector:\\n\", A_row)"
   ]
  },
  {
   "cell_type": "code",
   "execution_count": null,
   "metadata": {},
   "outputs": [],
   "source": []
  }
 ],
 "metadata": {
  "kernelspec": {
   "display_name": "Python 3",
   "language": "python",
   "name": "python3"
  },
  "language_info": {
   "codemirror_mode": {
    "name": "ipython",
    "version": 3
   },
   "file_extension": ".py",
   "mimetype": "text/x-python",
   "name": "python",
   "nbconvert_exporter": "python",
   "pygments_lexer": "ipython3",
   "version": "3.5.4"
  }
 },
 "nbformat": 4,
 "nbformat_minor": 2
}
