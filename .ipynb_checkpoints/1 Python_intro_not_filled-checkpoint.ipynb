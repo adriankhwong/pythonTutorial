{
 "cells": [
  {
   "cell_type": "markdown",
   "metadata": {},
   "source": [
    "## Introduction to Python\n",
    "\n",
    "Python is ... \n",
    "- a high level language optimpozed for reading py people instead of machines. \n",
    "- an interpreted language, which means the code isn't complied into machine code like Java or C. \n",
    "- dynamically typed lanuage, which means when you declare a variable, you can assign the variable to be a certain type like an interger on one line and change it to a string on the next line. Since you don't need to compile the code. "
   ]
  },
  {
   "cell_type": "markdown",
   "metadata": {},
   "source": [
    "## Introduction to Jupyter Notebooks\n",
    "\n",
    "These noteboks allow you to divide the code into cells and show the output of the cells. One of the best features of these notebooks is you are able  to keep a log of what you have done without rerunning code you have already written. \n",
    "\n",
    "Press \"shift\" and \"Enter\" on the keyboard to run each cell\n",
    "\n",
    "\n",
    "To install Python, Jupyter Notebooks, and commonly used libraries, follow this link [Anaconda](https://www.anaconda.com/download/#macos). "
   ]
  },
  {
   "cell_type": "markdown",
   "metadata": {},
   "source": [
    "## Differences between Python 2 and Python 3##\n",
    "\n",
    "Guido van Rossum, the creator of Python, said that Python 2 will have an end of life in the next few years and hence little to no development will be made. Moreover, Python 3 was create to fix a issues that occured in Python 2. Read more here:\n",
    "\n",
    "- https://wiki.python.org/moin/Python2orPython3\n",
    "- http://python3porting.com/differences.html\n",
    "- https://www.quora.com/What-is-the-difference-between-Python-2-x-and-Python-3-x\n",
    "- http://blog.teamtreehouse.com/python-2-vs-python-3\n"
   ]
  },
  {
   "cell_type": "markdown",
   "metadata": {},
   "source": [
    "## Comments and Strings ##"
   ]
  },
  {
   "cell_type": "code",
   "execution_count": 1,
   "metadata": {},
   "outputs": [
    {
     "name": "stdout",
     "output_type": "stream",
     "text": [
      "None\n",
      "None\n",
      "None\n"
     ]
    },
    {
     "ename": "NameError",
     "evalue": "name 'not_a_string' is not defined",
     "output_type": "error",
     "traceback": [
      "\u001b[0;31m---------------------------------------------------------------------------\u001b[0m",
      "\u001b[0;31mNameError\u001b[0m                                 Traceback (most recent call last)",
      "\u001b[0;32m<ipython-input-1-c25a70cdd0c7>\u001b[0m in \u001b[0;36m<module>\u001b[0;34m()\u001b[0m\n\u001b[1;32m     11\u001b[0m \u001b[0;31m# This would not print because it is not a string\u001b[0m\u001b[0;34m\u001b[0m\u001b[0;34m\u001b[0m\u001b[0m\n\u001b[1;32m     12\u001b[0m \u001b[0;31m# You will get an error message\u001b[0m\u001b[0;34m\u001b[0m\u001b[0;34m\u001b[0m\u001b[0m\n\u001b[0;32m---> 13\u001b[0;31m \u001b[0mprint\u001b[0m\u001b[0;34m(\u001b[0m\u001b[0mnot_a_string\u001b[0m\u001b[0;34m)\u001b[0m\u001b[0;34m\u001b[0m\u001b[0m\n\u001b[0m",
      "\u001b[0;31mNameError\u001b[0m: name 'not_a_string' is not defined"
     ]
    }
   ],
   "source": [
    "\n",
    "\n",
    "print(None) # print string to screen using \"\" \n",
    "print(None) # print string to screen using ''\n",
    "\n",
    "# Define a string with quotations\n",
    "message = None\n",
    "print(message)\n",
    "\n",
    "\n",
    "# This would not print because it is not a string\n",
    "# You will get an error message\n",
    "print(not_a_string)"
   ]
  },
  {
   "cell_type": "markdown",
   "metadata": {},
   "source": [
    "## Variables and Math Operations ##"
   ]
  },
  {
   "cell_type": "code",
   "execution_count": 6,
   "metadata": {},
   "outputs": [
    {
     "name": "stdout",
     "output_type": "stream",
     "text": [
      "None\n",
      "The value of x is None\n",
      "None\n",
      "\n",
      "For a = 3 and b = 2:\n",
      "   Addition: a + b =  5\n",
      "   Subtraction: a - b =  1\n",
      "   Multiplication: a * b =  6\n",
      "   Division: a / b =  1.5\n",
      "   Modulus: a % b =  1\n",
      "   Exponent: a ** b =  9\n",
      "\n",
      "Assignment operators: a+=b => a = a+b. a = 5\n"
     ]
    }
   ],
   "source": [
    "# You can also print numbers and pre-defined variables\n",
    "print(None)\n",
    "\n",
    "# printing a variable  \n",
    "x = None\n",
    "print(\"The value of x is\", None)\n",
    "\n",
    "# printing multiple variables \n",
    "# Other ways are listed here: https://stackoverflow.com/questions/15286401/print-multiple-arguments-in-python\n",
    "y = None\n",
    "print(None)\n",
    "\n",
    "# Math operations\n",
    "a = 3\n",
    "b = 2\n",
    "\n",
    "print()  # print newline\n",
    "print(\"For a = 3 and b = 2:\")\n",
    "print(\"   Addition: a + b = \", a + b)   \n",
    "print(\"   Subtraction: a - b = \", a - b)    \n",
    "print(\"   Multiplication: a * b = \", a * b)    \n",
    "print(\"   Division: a / b = \", a / b)    \n",
    "print(\"   Modulus: a % b = \", a % b)    \n",
    "print(\"   Exponent: a ** b = \", a ** b)  \n",
    "\n",
    "a+=b\n",
    "print()\n",
    "print(\"Assignment operators: a+=b => a = a+b. a =\", a)"
   ]
  },
  {
   "cell_type": "code",
   "execution_count": 3,
   "metadata": {},
   "outputs": [
    {
     "name": "stdout",
     "output_type": "stream",
     "text": [
      "x: \n",
      "The value of x is \n"
     ]
    }
   ],
   "source": [
    "# Have user input a string to the program\n",
    "\n",
    "var = input(\"x: \")  # var is type string even if var is a number\n",
    "print(\"The value of x is\", var)"
   ]
  },
  {
   "cell_type": "markdown",
   "metadata": {},
   "source": [
    "## if, elif, else statements ##\n",
    "\n",
    "Syntax\n",
    "\n",
    "```python\n",
    "if (condition):\n",
    "    # execute code\n",
    "elif (condition):\n",
    "    # execute code\n",
    "elif (condition):\n",
    "    # execute code\n",
    "else:\n",
    "    # execute code\n",
    "```\n",
    "\n",
    "Conditions need to evaluate to a boolean value (either True or False). Example conditions:\n",
    "```python\n",
    "12 >= 0          # True\n",
    "1 >= 6           # False\n",
    "True and False   # Logical AND; condition: \"False\"\n",
    "True or False    # Logical OR;  condition: \"True\"\n",
    "True != False    # Logical XOR; condition: \"True\"\n",
    "not True         # Logical NOT; condition: \"False\"\n",
    "```\n",
    "\n",
    "Look at section Python Comparison Operators for different conditions and ways to use if statement \n",
    "https://www.tutorialspoint.com/python3/python_basic_operators.htm\n"
   ]
  },
  {
   "cell_type": "code",
   "execution_count": 2,
   "metadata": {},
   "outputs": [
    {
     "name": "stdout",
     "output_type": "stream",
     "text": [
      "None\n"
     ]
    }
   ],
   "source": [
    "# Make sure you indent after an if, elif or else statements. \n",
    "# if you don't, it will produce an error. \n",
    "# Code needs to be indented after a colon : \n",
    "\n",
    "\n",
    "\n",
    "if ( None ): \n",
    "    print (None)\n",
    "else:\n",
    "    print(None)\n"
   ]
  },
  {
   "cell_type": "markdown",
   "metadata": {},
   "source": [
    "## Lists ##\n",
    "- A list is the same as a vector\n",
    "- A list contains elements with a position (i.e. index) in the list. \n",
    "- The first index is zero, the second index is one, and so forth. \n",
    "- A list is encompassed with squared brackets. \n",
    "- has basic mathematical operations, +: concatenate lists, * repeats values of the list\n",
    "- splicing, the square brackets [] are used to access elements of a list. \n",
    "- syntax list[start_point:end_point-1]"
   ]
  },
  {
   "cell_type": "code",
   "execution_count": 9,
   "metadata": {},
   "outputs": [
    {
     "name": "stdout",
     "output_type": "stream",
     "text": [
      "Items of list1: [1, 2, 3, 4, 5]\n",
      "Items of list2: ['1', 'Hi', 2, 'H', 9000]\n",
      "Items of nested_list: [[1, 2], [3, 4], [5, 6]]\n",
      "\n",
      "First item in a list is at index 0 1\n",
      "Second item in a list is at index 1 2\n",
      "Last item in a list is at index -1 5\n",
      "Second to last item in a list is at index -1 4\n",
      "\n",
      "Splicing - elements from index 1 upto and not including index 3: [2, 3]\n",
      "Splicing - elements from index 0 upto and not including index 3: [1, 2, 3]\n",
      "Splicing - elements from index 1 to the end: [2, 3, 4, 5]\n",
      "Concatenate string: [1, 2, 3, 4, 5, '1', 'Hi', 2, 'H', 9000]\n",
      "Repeat items in string: [1, 2, 3, 4, 5, 1, 2, 3, 4, 5]\n",
      "\n",
      "Updated list by changing the value at index 3 to 10: [1, 2, 3, 10, 5]\n",
      "\n",
      "Removed the element at index 2: [1, 2, 10, 5]\n",
      "\n",
      "Length of list1: 4\n",
      "Maximum value in list1: 10\n",
      "Minimum value in list1: 1\n",
      "Append an item to a list:  None\n",
      "Append a list to a list: None\n"
     ]
    },
    {
     "data": {
      "text/plain": [
       "[1, 10, 3, 4]"
      ]
     },
     "execution_count": 9,
     "metadata": {},
     "output_type": "execute_result"
    }
   ],
   "source": [
    "list1 = [1, 2, 3, 4, 5]\n",
    "print(\"Items of list1:\", list1)\n",
    "\n",
    "# can have more than one type in a list\n",
    "list2 = [\"1\", \"Hi\", 2, \"H\", 9000]\n",
    "print(\"Items of list2:\", list2)\n",
    "\n",
    "nested_list =  [ [1, 2], [3, 4], [5, 6]]\n",
    "print(\"Items of nested_list:\", nested_list)\n",
    "\n",
    "print()\n",
    "print(\"First item in a list is at index 0\",list1[0])\n",
    "print(\"Second item in a list is at index 1\",list1[1])\n",
    "print(\"Last item in a list is at index -1\",list1[-1])\n",
    "print(\"Second to last item in a list is at index -1\",list1[-2])\n",
    "\n",
    "# splicing \n",
    "print()\n",
    "print(\"Splicing - elements from index 1 upto and not including index 3:\", list1[1:3])\n",
    "print(\"Splicing - elements from index 0 upto and not including index 3:\", list1[:3])\n",
    "print(\"Splicing - elements from index 1 to the end:\", list1[1:])\n",
    "\n",
    "# concatenate and repeat items in list\n",
    "print(\"Concatenate string:\", list1 + list2 )\n",
    "print(\"Repeat items in string:\", list1 *2 )\n",
    "\n",
    "# updating lists\n",
    "list1[3] = 10\n",
    "print()\n",
    "print(\"Updated list by changing the value at index 3 to 10:\", list1)\n",
    "\n",
    "# deleting elements in list\n",
    "del list1[2]\n",
    "print()\n",
    "print(\"Removed the element at index 2:\", list1)\n",
    "\n",
    "# list functions\n",
    "print()\n",
    "print(\"Length of list1:\", len(list1))\n",
    "print(\"Maximum value in list1:\", max(list1))\n",
    "print(\"Minimum value in list1:\", min(list1))\n",
    "\n",
    "# add append items to list or append two lists\n",
    "print(\"Append an item to a list: \", list1.append(6))\n",
    "print(\"Append a list to a list:\", list1.append(list2))\n",
    "\n",
    "# Careful\n",
    "a = [1,2,3,4]\n",
    "b = a\n",
    "b[1] = 10\n",
    "a"
   ]
  },
  {
   "cell_type": "markdown",
   "metadata": {},
   "source": [
    "## Loops ##\n",
    "```python\n",
    "for i in a_list:\n",
    "    print i\n",
    "```\n",
    "\n",
    "- It can be any of many types including (integer, float, string, char)\n",
    "- The loop will run the indented code\n",
    "- The loop will stop at after the last item in the list. "
   ]
  },
  {
   "cell_type": "code",
   "execution_count": 4,
   "metadata": {},
   "outputs": [
    {
     "name": "stdout",
     "output_type": "stream",
     "text": [
      "range is a keyword that will create a list with N items starting from index 0\n",
      "0\n",
      "1\n",
      "2\n",
      "\n",
      "0\n",
      "2\n",
      "4\n",
      "6\n",
      "8\n"
     ]
    }
   ],
   "source": [
    "# The end of the loop statement is unindented\n",
    "\n",
    "print(\"range is a keyword that will create a list with N items starting from index 0\")\n",
    "for i in range(3):\n",
    "    print(i)\n",
    "    \n",
    "print()    \n",
    "list_evens = [0, 2, 4, 6, 8];\n",
    "for i in list_evens:\n",
    "    print(i)\n",
    "    \n",
    "    \n",
    "# while loop\n",
    "# break"
   ]
  },
  {
   "cell_type": "code",
   "execution_count": 13,
   "metadata": {},
   "outputs": [
    {
     "name": "stdout",
     "output_type": "stream",
     "text": [
      "[0, 2, 4, 6, 8, 10, 12, 14, 16, 18]\n",
      "[0, 2, 4, 6, 8, 10, 12, 14, 16, 18]\n",
      "True\n"
     ]
    }
   ],
   "source": [
    "# list compresssion\n",
    "\n",
    "my_list = []\n",
    "for number in range(20):\n",
    "    if number % 2 == 0:\n",
    "        my_list.append(number)\n",
    "print(my_list)\n",
    "\n",
    "my_list2 = [number for number in range(20) if number % 2 == 0]\n",
    "print(my_list2)\n",
    "print(my_list == my_list2)\n"
   ]
  },
  {
   "cell_type": "markdown",
   "metadata": {},
   "source": [
    "## Functions ##\n",
    "\n",
    "Syntax\n",
    "```python\n",
    "def functionname( arguments ):\n",
    "    # do stuff with arguments\n",
    "    return None\n",
    "```\n"
   ]
  },
  {
   "cell_type": "code",
   "execution_count": 48,
   "metadata": {},
   "outputs": [
    {
     "name": "stdout",
     "output_type": "stream",
     "text": [
      "37.000000 degree Celcius is 98.600000 degree Fahrenheit.\n",
      "37 degree Celcius is 98.6 degree Fahrenheit.\n"
     ]
    }
   ],
   "source": [
    "def Celsius_to_Fahrenheit(C):\n",
    "    \"\"\"\n",
    "    Converts degrees Celsius to degree Fahrenheit\n",
    "    Input\n",
    "    Output\n",
    "\n",
    "    \"\"\"\n",
    "    F = C*9/5 + 32\n",
    "    return F\n",
    "\n",
    "temp = 37\n",
    "print(\"%f degree Celcius is %f degree Fahrenheit.\" % (temp, Celsius_to_Fahrenheit(temp)) )\n",
    "\n",
    "# convert floats in to string \n",
    "# https://stackoverflow.com/questions/2440692/formatting-floats-in-python-without-superfluous-zeros\n",
    "print(\"%s degree Celcius is %s degree Fahrenheit.\"\n",
    "      % (('%f' % temp).rstrip('0').rstrip('.'), ('%f' % Celsius_to_Fahrenheit(temp)).rstrip('0').rstrip('.')))\n"
   ]
  },
  {
   "cell_type": "code",
   "execution_count": 21,
   "metadata": {},
   "outputs": [
    {
     "name": "stdout",
     "output_type": "stream",
     "text": [
      "True\n"
     ]
    }
   ],
   "source": [
    "def multiplication_table():\n",
    "    lst = []\n",
    "    for x in range(10):\n",
    "        for y in range(10):\n",
    "            lst.append(x*y)\n",
    "    return lst\n",
    "\n",
    "mult_list = multiplication_table()\n",
    "mult_list2 = [x*y for x in range(10) for y in range(10)]\n",
    "print(mult_list == mult_list2)\n"
   ]
  },
  {
   "cell_type": "markdown",
   "metadata": {},
   "source": [
    "## Lambda\n",
    "Declare the lambda fucntion with the keyword lambda followed by a list of arguments, followed by a colon then a single express. \n",
    "There's only one expression to be evaulated in a lambda. The expression value is returned on execution of the lambda.\n",
    "\n",
    "The return of a lambda is a function reference.\n",
    "No default values in lambda parameters and no complex logic inside lambda since you are allowed only one expression"
   ]
  },
  {
   "cell_type": "code",
   "execution_count": 15,
   "metadata": {},
   "outputs": [
    {
     "data": {
      "text/plain": [
       "3"
      ]
     },
     "execution_count": 15,
     "metadata": {},
     "output_type": "execute_result"
    }
   ],
   "source": [
    "add_function = lambda a, b, c : a + b\n",
    "add_function(1,2,3)"
   ]
  },
  {
   "cell_type": "code",
   "execution_count": 44,
   "metadata": {},
   "outputs": [
    {
     "name": "stdout",
     "output_type": "stream",
     "text": [
      "(1, 2, 'hi')\n"
     ]
    }
   ],
   "source": [
    "# tuples - are not mutatable \n",
    "# change change a tuple. not widely use\n",
    "# tuples are iterable, meaning you can write loops to go through each value\n",
    "# tuples are declared using (). The first position starts at index 0\n",
    "\n",
    "t = (1,2,\"hi\")\n",
    "print(t)\n"
   ]
  },
  {
   "cell_type": "code",
   "execution_count": 11,
   "metadata": {},
   "outputs": [
    {
     "name": "stdout",
     "output_type": "stream",
     "text": [
      "Adrian\n",
      "['Vancouver', 'Toronto', 'Montreal']\n",
      "Vancouver\n",
      "Email is chin_chin\n",
      "Email is wong.adrian.26\n",
      "chin_chin\n",
      "wong.adrian.26\n",
      "Sam chin_chin\n",
      "\n",
      "Adrian wong.adrian.26\n",
      "\n"
     ]
    }
   ],
   "source": [
    "# dictionary\n",
    "# create own indices  \n",
    "# key: value\n",
    "# unorder\n",
    "d = {\"name\": \"Adrian\", \"Surname\": \"Wong\", \"Cities\": [\"Vancouver\", \"Toronto\", \"Montreal\"]}\n",
    "print(d[\"name\"])\n",
    "print(d[\"Cities\"])\n",
    "print(d[\"Cities\"][0])\n",
    "\n",
    "\n",
    "dict_name = {\"Adrian\": \"wong.adrian.26\", \"Sam\": \"chin_chin\"}\n",
    "\n",
    "for name in dict_name:\n",
    "    print(\"Email is\", dict_name[name])\n",
    "\n",
    "# get the value \n",
    "print()\n",
    "for email in dict_name.values():\n",
    "    print(email)\n",
    "\n",
    "print()\n",
    "for name, email in dict_name.items():\n",
    "    print(name + \" \" + email)"
   ]
  },
  {
   "cell_type": "code",
   "execution_count": null,
   "metadata": {},
   "outputs": [],
   "source": [
    "#https://thenewboston.com/videos.php?cat=98\n",
    "#https://learnxinyminutes.com/docs/python3/"
   ]
  },
  {
   "cell_type": "code",
   "execution_count": 1,
   "metadata": {},
   "outputs": [
    {
     "data": {
      "text/plain": [
       "[1, 10, 3, 4]"
      ]
     },
     "execution_count": 1,
     "metadata": {},
     "output_type": "execute_result"
    }
   ],
   "source": []
  },
  {
   "cell_type": "code",
   "execution_count": null,
   "metadata": {},
   "outputs": [],
   "source": []
  }
 ],
 "metadata": {
  "kernelspec": {
   "display_name": "Python 3",
   "language": "python",
   "name": "python3"
  },
  "language_info": {
   "codemirror_mode": {
    "name": "ipython",
    "version": 3
   },
   "file_extension": ".py",
   "mimetype": "text/x-python",
   "name": "python",
   "nbconvert_exporter": "python",
   "pygments_lexer": "ipython3",
   "version": "3.5.4"
  }
 },
 "nbformat": 4,
 "nbformat_minor": 2
}
